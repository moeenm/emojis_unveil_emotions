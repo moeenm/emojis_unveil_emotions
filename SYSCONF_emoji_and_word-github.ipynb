{
 "cells": [
  {
   "cell_type": "markdown",
   "metadata": {},
   "source": [
    "### How emoji and word embedding helps to unveil emotional transitions during online messaging\n",
    "\n",
    "####                                                         Moeen Mostafavi & Michael Porter\n",
    "\n",
    "Engineering Systems and Environment, University of Virginia, Charlottesville, United States\n",
    "\n",
    "{moeen,mdp2u}@virginia.edu\n",
    "\n",
    "Please cite this work if you want to use the code:\n",
    "\n",
    "Mostafavi, Moeen, and Michael D. Porter. \"How emoji and word embedding helps to unveil emotional transitions during online messaging.\" 2021 IEEE International Systems Conference (SysCon). IEEE, 2021."
   ]
  },
  {
   "cell_type": "markdown",
   "metadata": {},
   "source": [
    " <font color='blue'>\n",
    "Note: This code was originally written in R, however, visualizing emojis in R was not easy. So we used python for visualization. This notebook uses both $Python$ and $R$ for simulation."
   ]
  },
  {
   "cell_type": "code",
   "execution_count": 1,
   "metadata": {},
   "outputs": [
    {
     "name": "stderr",
     "output_type": "stream",
     "text": [
      "C:\\ProgramData\\Anaconda3\\lib\\site-packages\\rpy2\\robjects\\pandas2ri.py:17: FutureWarning: pandas.core.index is deprecated and will be removed in a future version.  The public classes are available in the top-level namespace.\n",
      "  from pandas.core.index import Index as PandasIndex\n"
     ]
    }
   ],
   "source": [
    "import pandas as pd\n",
    "import numpy as np\n",
    "from gensim.models.keyedvectors import KeyedVectors\n",
    "from pylab import *\n",
    "# !curl -O \"https://raw.githubusercontent.com/vitorcurtis/RWinOut/master/RWinOut.py\"\n",
    "# %load_ext RWinOut\n",
    "%load_ext rpy2.ipython"
   ]
  },
  {
   "cell_type": "markdown",
   "metadata": {},
   "source": [
    "You can access affective dictionaries from the following link:\n",
    "\n",
    "http://affectcontroltheory.org/resources-for-researchers/data-sets-for-simulation/\n",
    "\n",
    "To extend affective dictionary, we used the following one:\n",
    "\n",
    "http://affectcontroltheory.org///usa-combined-surveyor-dictionary-2015/\n",
    "\n",
    "     Smith-Lovin, Lynn, Dawn T. Robinson, Bryan C. Cannon, Jesse K. Clark, Robert Freeland, Jonathan H. Morgan and Kimberly B. Rogers. 2016. “Mean Affective Ratings of 929 Identities, 814 Behaviors, and 660 Modifiers by University of Georgia and Duke University Undergraduates and by Community Members in Durham, NC, in 2012-2014.” University of Georgia: Distributed at UGA Affect Control Theory Website: http://research.franklin.uga.edu/act/.\n",
    "\n",
    "In the next chunk, we load data from these dictionaries. (Note that some words appear in two different categories of the dictionary. For example, $mother$ appears as $identity$ and $behavior$. This fact is a big limitation in the use of word embedding to find affective dictionaries. But at this point, we don't focus on this problem."
   ]
  },
  {
   "cell_type": "code",
   "execution_count": 2,
   "metadata": {},
   "outputs": [],
   "source": [
    "%%R \n",
    "library(\"ggplot2\")\n",
    "library('dplyr')   #\n",
    "\n",
    "Combined_Surveyor_2015_modifier <- read.csv(\"http://affectcontroltheory.org///wp-content/uploads/2019/10/FullSurveyorInteract_Modifiers.csv\",stringsAsFactor=F)\n",
    "Combined_Surveyor_2015 <- read.csv(\"http://affectcontroltheory.org///wp-content/uploads/2019/10/FullSurveyorInteract_Identities.csv\",stringsAsFactor=F)\n",
    "Combined_Surveyor_2015_behaviors=read.csv(\"http://affectcontroltheory.org///wp-content/uploads/2019/10/FullSurveyorInteract_Behaviors.csv\",stringsAsFactor=F)\n",
    "Combined_Surveyor_2015_all=rbind(Combined_Surveyor_2015_behaviors,Combined_Surveyor_2015_modifier,Combined_Surveyor_2015)\n",
    "\n",
    "s <-capture.output(summary(Combined_Surveyor_2015_all))"
   ]
  },
  {
   "cell_type": "code",
   "execution_count": 3,
   "metadata": {},
   "outputs": [
    {
     "data": {
      "text/plain": [
       "array(['     term                 E                  P                 A          ',\n",
       "       ' Length:2403        Min.   :-4.26000   Min.   :-3.2600   Min.   :-2.8800  ',\n",
       "       ' Class :character   1st Qu.:-1.68000   1st Qu.:-0.1250   1st Qu.:-0.3000  ',\n",
       "       ' Mode  :character   Median : 0.28000   Median : 0.8700   Median : 0.3900  ',\n",
       "       '                    Mean   : 0.05672   Mean   : 0.7444   Mean   : 0.3487  ',\n",
       "       '                    3rd Qu.: 1.66000   3rd Qu.: 1.7000   3rd Qu.: 1.0850  ',\n",
       "       '                    Max.   : 3.71000   Max.   : 3.7000   Max.   : 3.3000  ',\n",
       "       '       E2                 P2                A2         ',\n",
       "       ' Min.   :-4.26000   Min.   :-3.2600   Min.   :-2.8800  ',\n",
       "       ' 1st Qu.:-1.68000   1st Qu.:-0.1250   1st Qu.:-0.3000  ',\n",
       "       ' Median : 0.28000   Median : 0.8700   Median : 0.3900  ',\n",
       "       ' Mean   : 0.05672   Mean   : 0.7444   Mean   : 0.3487  ',\n",
       "       ' 3rd Qu.: 1.66000   3rd Qu.: 1.7000   3rd Qu.: 1.0850  ',\n",
       "       ' Max.   : 3.71000   Max.   : 3.7000   Max.   : 3.3000  '],\n",
       "      dtype='<U74')"
      ]
     },
     "execution_count": 3,
     "metadata": {},
     "output_type": "execute_result"
    }
   ],
   "source": [
    "%R s"
   ]
  },
  {
   "cell_type": "markdown",
   "metadata": {},
   "source": [
    "Google News embedding can be downloaded from this link:\n",
    "\n",
    "https://github.com/KnowledgeLab/GeometryofCulture\n",
    "\n",
    "https://www.dropbox.com/s/5m9s5326off2lcg/google_news_embedding.zip?dl=0\n",
    "\n",
    "Add normalization similar to the following ref.:\n",
    "\n",
    "    Kozlowski, Austin C., Matt Taddy, and James A. Evans. \"The geometry of culture: Analyzing the meanings of class through word embeddings.\" American Sociological Review 84.5 (2019): 905-949."
   ]
  },
  {
   "cell_type": "code",
   "execution_count": 4,
   "metadata": {},
   "outputs": [],
   "source": [
    "%%R \n",
    "df<-read.csv(file=\"D:/ACT/word embeding/GoogleNews_Embedding.csv\", header=TRUE,row.names=1, sep=\",\")\n",
    "df<-as.matrix(data.frame(df))\n",
    "\n",
    "nrm <- function(x) x/(sqrt(sum(x^2)))\n",
    "df<-t(apply(df,1,nrm))"
   ]
  },
  {
   "cell_type": "markdown",
   "metadata": {},
   "source": [
    "### Finding the mapping from word-embedding to affective space"
   ]
  },
  {
   "cell_type": "markdown",
   "metadata": {},
   "source": [
    "- Find the words that appear both in the affective dictionary and word-embedding\n",
    "- Take 85% of the data as a training set and the rest for the test set\n",
    "- Find $R$, which is the translation matrix\n",
    "- Use $translated$ words as predictors in step-wise regression\n",
    "- Check the correlation between $mapped data$ and affective meaning n the $test$ set."
   ]
  },
  {
   "cell_type": "code",
   "execution_count": 5,
   "metadata": {},
   "outputs": [],
   "source": [
    "%%R \n",
    "ACT_data_test=Combined_Surveyor_2015_all\n",
    "# set.seed(500)\n",
    "term_list=ACT_data_test$term\n",
    "term_list=term_list[term_list %in% row.names(df)]\n",
    "\n",
    "new_df=ACT_data_test[ACT_data_test$term %in% term_list,]\n",
    "smp_size <- floor(0.85 * nrow(new_df))\n",
    "set.seed(123)\n",
    "train_ind <- sample(seq_len(nrow(new_df)), size = smp_size)\n",
    "train2 <- new_df[train_ind, ]\n",
    "test2 <- new_df[-train_ind, ]\n",
    "## ***************************** Find the mapping **************\n",
    "R=((solve((t(df[train2$term,]))%*%(df[train2$term,])))%*%(t(df[train2$term,])))%*%as.matrix(train2[,c('E','P','A')])\n",
    "test2[,c('ER','PR','AR')]=df[test2$term,]%*%R\n",
    "train2[,c('ER','PR','AR')]=df[train2$term,]%*%R\n",
    "\n",
    "## ***************************** Regression on the mapping **************\n",
    "model_E <- step(glm(E ~(ER+PR+AR)^2, data = train2), trace=0)  \n",
    "test2$pred_E <- model_E %>% predict(test2)\n",
    "model_P <- step(glm(P ~(ER+PR+AR)^2, data = train2), trace=0)\n",
    "test2$pred_P <- model_P %>% predict(test2)\n",
    "model <- step(glm(A ~(ER+PR+AR)^2, data = train2), trace=0)\n",
    "test2$pred_A <- model %>% predict(test2)\n",
    "\n",
    "s <-capture.output(cor(test2[,c(\"E\",\"P\",'A','pred_E','pred_P','pred_A')])[4:6,1:3])\n",
    "s"
   ]
  },
  {
   "cell_type": "code",
   "execution_count": 6,
   "metadata": {},
   "outputs": [
    {
     "data": {
      "text/plain": [
       "array(['                  E         P            A',\n",
       "       'pred_E  0.845601797 0.5461497 -0.009805026',\n",
       "       'pred_P  0.538090440 0.7740176  0.244523722',\n",
       "       'pred_A -0.005760882 0.2605709  0.677175956'], dtype='<U42')"
      ]
     },
     "execution_count": 6,
     "metadata": {},
     "output_type": "execute_result"
    }
   ],
   "source": [
    "%R s"
   ]
  },
  {
   "cell_type": "markdown",
   "metadata": {},
   "source": [
    "### Customer interaction\n",
    "\n",
    "We used $INTERACT$ to simulate the following interaction\n",
    "\n",
    "          Heise, D. R. (2013). Interact guide. Department of Sociology, Indiana University.\n",
    "\n",
    "| Index | Actor |Chat | Action | \n",
    "| --- | :- | :- | :- |\n",
    "| 1 | Customer | Hello | greet |\n",
    "| 2 | Salesman | Hello, I am the Bot | welcome |\n",
    "| 3 | Customer | Why my order status is not updated | grouse at| \n",
    "| 4 | Salesman | What is your order number | question |\n",
    "| 5 | Customer | order #8218 | answer | \n",
    "| 6 | Salesman | Please wait, I check it | request sth. from|\n",
    "| 7 | Customer | Take your time | agree with|\n",
    "| 8 | Salesman | We shipped it and will be delivered in two weeks | answer |\n",
    "| 9 | Customer | Not acceptable, it is too late | criticize| \n",
    "| 10 | Salesman | Sorry, I can refund the shipping cost | gratify |\n",
    "| 11 | Customer | I need full refund | argue with|\n",
    "| 12 | Salesman | You get full refund in two business day| uplift |\n",
    "| 13 | Customer | Sounds good | agree | 🙏\n",
    "| 14 | Salesman | Thank you for contacting us| thank |\n",
    "| 15 | Customer | Bye | leaves | \n"
   ]
  },
  {
   "cell_type": "markdown",
   "metadata": {},
   "source": [
    "### Affective mneaning of Emojis"
   ]
  },
  {
   "cell_type": "markdown",
   "metadata": {},
   "source": [
    "\\\"Most pre-trained word embeddings contain few or no emoji representations. Emoji2vec provides pre-trained embeddings for all Unicode emojis which are learned from their description in the Unicode emoji standard. These pre-trained emoji embeddings map emoji symbols into the same 300-dimensional Google news word2vec embeddings and can thus be used in addition with the word2vec embeddings. This work was by developed Eisner, et al at University College London (UCL) in 2016. They have made their pre-trained emoji vectors available here.\\\"\n",
    "\n",
    "Source: https://sqlthing.blogspot.com/2018/04/deep-learning-for-emojis-with-vs-code.html?m=0 "
   ]
  },
  {
   "cell_type": "markdown",
   "metadata": {},
   "source": [
    "#### Emoji tags\n",
    "| Index | Emoji |Tags| \n",
    "| --- | :- | :- |\n",
    "| 1 |  😡|rage, irate, grumpy face, mad face, anger, pout,angry face, red face, pouting face|\n",
    "| 2 | 😎|smooth,sun,sunny,sunglasses,sunnies,cool,smiling face with sunglasses,smiling,glasses,snapchat mutual best friends |\n",
    "| 3 | 😒 |unamused, unamused face, lame, depressed, not amused, unhappy, unimpressed, disapprove, dissatisfied|\n",
    "| 4 | 😫|tired face, exhausted, tired, fed up, sleepy |\n",
    "| 5 | 😂|laughing, lol, laughing crying, tears, joy, happy, laughing tears, cry, face with tears of joy|\n",
    "| 6 | 👎|down,thumb, hand, dislike, gesture, boo, stop, disapproval, sign, thumbs down sign, thumbs down, no |\n",
    "| 7 | 😍|heart eyes,smile, flirt, heart face, love, smiling, lovestruck,heart|"
   ]
  },
  {
   "cell_type": "markdown",
   "metadata": {},
   "source": [
    "Loading $emoji2vec$ in Python and export it to CSV format.\n",
    "\n",
    "https://github.com/uclnlp/emoji2vec\n",
    "\n",
    "    Eisner, Ben, Tim Rocktäschel, Isabelle Augenstein, Matko Bošnjak, and Sebastian Riedel. \"emoji2vec: Learning emoji representations from their description.\" arXiv preprint arXiv:1609.08359 (2016)."
   ]
  },
  {
   "cell_type": "code",
   "execution_count": 7,
   "metadata": {},
   "outputs": [
    {
     "name": "stdout",
     "output_type": "stream",
     "text": [
      "1661\n"
     ]
    }
   ],
   "source": [
    "w2v_model = KeyedVectors.load_word2vec_format('D:/ACT/emoji/1.emoji2vec/emoji2vec-master/pre-trained/emoji2vec.bin', binary=True)\n",
    "print(len(w2v_model.index2word))\n",
    "\n",
    "#np.savetxt(\"emoji2vec.csv\", w2v_model.wv[w2v_model.wv.index2word], delimiter=\",\")\n",
    "#with open(\"emoji2vec_list.txt\", 'w', encoding='utf-8') as f:\n",
    " #   for s in w2v_model.wv.index2word:\n",
    "#        f.write(str(s) + '\\n')"
   ]
  },
  {
   "cell_type": "markdown",
   "metadata": {},
   "source": [
    "Loading $emoji2vec$ in R "
   ]
  },
  {
   "cell_type": "code",
   "execution_count": 8,
   "metadata": {},
   "outputs": [],
   "source": [
    "%%R \n",
    "w2v_model<-read.csv(file=\"D:/ACT/emoji/emoji2vec.csv\", sep=\",\", header=FALSE) #, header=TRUE,row.names=1\n",
    "w2v_names <- scan(\"D:/ACT/emoji/emoji2vec_list.txt\", what=\"\", sep=\"\\n\",encoding  = \"UTF-8\")\n",
    "w2v_model<-t(apply(w2v_model,1,nrm))"
   ]
  },
  {
   "cell_type": "markdown",
   "metadata": {},
   "source": [
    "We use the last model to find affective meaning of emojis: "
   ]
  },
  {
   "cell_type": "code",
   "execution_count": 9,
   "metadata": {},
   "outputs": [],
   "source": [
    "%%R \n",
    "tmp2= nrow(w2v_model)\n",
    "emoji_epa <- data.frame(ER = character(tmp2), PR = numeric(tmp2), AR = numeric(tmp2))\n",
    "emoji_epa[,c('ER','PR','AR')]=as.matrix(w2v_model)%*%as.matrix(R)\n",
    "\n",
    "## ***************************** mapping only **************\n",
    "emoji_epa$pred_E <- model_E %>% predict(emoji_epa)\n",
    "emoji_epa$pred_P <- model_P %>% predict(emoji_epa)\n",
    "emoji_epa$pred_A <- model %>% predict(emoji_epa)\n",
    "\n",
    "\n",
    "write.csv(emoji_epa, \"D:/ACT/emoji/emoji2vec_EPA2.csv\")"
   ]
  },
  {
   "cell_type": "code",
   "execution_count": 10,
   "metadata": {},
   "outputs": [],
   "source": [
    "#emoji2vec_EPA=pd.read_csv('D:/ACT/emoji/emoji2vec_EPA.csv')\n",
    "emoji2vec_EPA=pd.read_csv('D:/ACT/emoji/emoji2vec_EPA2.csv')\n",
    "emoji2vec_EPA['emoj']=w2v_model.index2word\n"
   ]
  },
  {
   "cell_type": "markdown",
   "metadata": {},
   "source": [
    "The following chunk results in the table we had in our paper"
   ]
  },
  {
   "cell_type": "code",
   "execution_count": 11,
   "metadata": {},
   "outputs": [
    {
     "data": {
      "text/html": [
       "<div>\n",
       "<style scoped>\n",
       "    .dataframe tbody tr th:only-of-type {\n",
       "        vertical-align: middle;\n",
       "    }\n",
       "\n",
       "    .dataframe tbody tr th {\n",
       "        vertical-align: top;\n",
       "    }\n",
       "\n",
       "    .dataframe thead th {\n",
       "        text-align: right;\n",
       "    }\n",
       "</style>\n",
       "<table border=\"1\" class=\"dataframe\">\n",
       "  <thead>\n",
       "    <tr style=\"text-align: right;\">\n",
       "      <th></th>\n",
       "      <th>Emoji</th>\n",
       "      <th>Evaluation</th>\n",
       "      <th>Potency</th>\n",
       "      <th>Activity</th>\n",
       "    </tr>\n",
       "  </thead>\n",
       "  <tbody>\n",
       "    <tr>\n",
       "      <th>1151</th>\n",
       "      <td>💑</td>\n",
       "      <td>3.95</td>\n",
       "      <td>3.63</td>\n",
       "      <td>0.69</td>\n",
       "    </tr>\n",
       "    <tr>\n",
       "      <th>305</th>\n",
       "      <td>😎</td>\n",
       "      <td>2.18</td>\n",
       "      <td>2.48</td>\n",
       "      <td>0.45</td>\n",
       "    </tr>\n",
       "    <tr>\n",
       "      <th>783</th>\n",
       "      <td>🌺</td>\n",
       "      <td>2.05</td>\n",
       "      <td>0.33</td>\n",
       "      <td>-0.69</td>\n",
       "    </tr>\n",
       "    <tr>\n",
       "      <th>250</th>\n",
       "      <td>🙂</td>\n",
       "      <td>1.95</td>\n",
       "      <td>1.10</td>\n",
       "      <td>-0.35</td>\n",
       "    </tr>\n",
       "    <tr>\n",
       "      <th>147</th>\n",
       "      <td>😃</td>\n",
       "      <td>1.89</td>\n",
       "      <td>2.26</td>\n",
       "      <td>0.95</td>\n",
       "    </tr>\n",
       "    <tr>\n",
       "      <th>1184</th>\n",
       "      <td>🤚</td>\n",
       "      <td>1.69</td>\n",
       "      <td>2.52</td>\n",
       "      <td>0.88</td>\n",
       "    </tr>\n",
       "    <tr>\n",
       "      <th>633</th>\n",
       "      <td>😘</td>\n",
       "      <td>1.58</td>\n",
       "      <td>2.23</td>\n",
       "      <td>0.66</td>\n",
       "    </tr>\n",
       "    <tr>\n",
       "      <th>686</th>\n",
       "      <td>😍</td>\n",
       "      <td>1.49</td>\n",
       "      <td>2.01</td>\n",
       "      <td>0.55</td>\n",
       "    </tr>\n",
       "    <tr>\n",
       "      <th>740</th>\n",
       "      <td>💪</td>\n",
       "      <td>1.35</td>\n",
       "      <td>2.37</td>\n",
       "      <td>0.83</td>\n",
       "    </tr>\n",
       "    <tr>\n",
       "      <th>1567</th>\n",
       "      <td>🙏🏽</td>\n",
       "      <td>0.78</td>\n",
       "      <td>1.90</td>\n",
       "      <td>-0.10</td>\n",
       "    </tr>\n",
       "    <tr>\n",
       "      <th>888</th>\n",
       "      <td>☺️</td>\n",
       "      <td>0.77</td>\n",
       "      <td>1.31</td>\n",
       "      <td>0.80</td>\n",
       "    </tr>\n",
       "    <tr>\n",
       "      <th>61</th>\n",
       "      <td>🌝</td>\n",
       "      <td>0.70</td>\n",
       "      <td>2.31</td>\n",
       "      <td>1.01</td>\n",
       "    </tr>\n",
       "    <tr>\n",
       "      <th>1617</th>\n",
       "      <td>👂🏻</td>\n",
       "      <td>0.48</td>\n",
       "      <td>0.88</td>\n",
       "      <td>-1.52</td>\n",
       "    </tr>\n",
       "    <tr>\n",
       "      <th>368</th>\n",
       "      <td>❤️</td>\n",
       "      <td>0.27</td>\n",
       "      <td>2.66</td>\n",
       "      <td>0.03</td>\n",
       "    </tr>\n",
       "    <tr>\n",
       "      <th>202</th>\n",
       "      <td>😛</td>\n",
       "      <td>0.16</td>\n",
       "      <td>0.77</td>\n",
       "      <td>1.60</td>\n",
       "    </tr>\n",
       "    <tr>\n",
       "      <th>470</th>\n",
       "      <td>🚶</td>\n",
       "      <td>-0.17</td>\n",
       "      <td>-0.09</td>\n",
       "      <td>-0.69</td>\n",
       "    </tr>\n",
       "    <tr>\n",
       "      <th>311</th>\n",
       "      <td>😖</td>\n",
       "      <td>-0.34</td>\n",
       "      <td>1.42</td>\n",
       "      <td>1.34</td>\n",
       "    </tr>\n",
       "    <tr>\n",
       "      <th>177</th>\n",
       "      <td>👎</td>\n",
       "      <td>-0.87</td>\n",
       "      <td>1.76</td>\n",
       "      <td>1.17</td>\n",
       "    </tr>\n",
       "    <tr>\n",
       "      <th>34</th>\n",
       "      <td>😕</td>\n",
       "      <td>-0.92</td>\n",
       "      <td>-0.09</td>\n",
       "      <td>-0.15</td>\n",
       "    </tr>\n",
       "    <tr>\n",
       "      <th>4</th>\n",
       "      <td>👹</td>\n",
       "      <td>-1.08</td>\n",
       "      <td>0.67</td>\n",
       "      <td>1.46</td>\n",
       "    </tr>\n",
       "    <tr>\n",
       "      <th>629</th>\n",
       "      <td>😭</td>\n",
       "      <td>-1.13</td>\n",
       "      <td>0.29</td>\n",
       "      <td>-1.36</td>\n",
       "    </tr>\n",
       "    <tr>\n",
       "      <th>1545</th>\n",
       "      <td>⌛️</td>\n",
       "      <td>-1.26</td>\n",
       "      <td>-0.59</td>\n",
       "      <td>-0.57</td>\n",
       "    </tr>\n",
       "    <tr>\n",
       "      <th>532</th>\n",
       "      <td>😫</td>\n",
       "      <td>-1.29</td>\n",
       "      <td>-1.36</td>\n",
       "      <td>-2.00</td>\n",
       "    </tr>\n",
       "    <tr>\n",
       "      <th>1075</th>\n",
       "      <td>👊</td>\n",
       "      <td>-1.42</td>\n",
       "      <td>1.50</td>\n",
       "      <td>2.56</td>\n",
       "    </tr>\n",
       "    <tr>\n",
       "      <th>345</th>\n",
       "      <td>😪</td>\n",
       "      <td>-1.93</td>\n",
       "      <td>-1.26</td>\n",
       "      <td>-1.35</td>\n",
       "    </tr>\n",
       "    <tr>\n",
       "      <th>908</th>\n",
       "      <td>😠</td>\n",
       "      <td>-2.02</td>\n",
       "      <td>0.10</td>\n",
       "      <td>1.06</td>\n",
       "    </tr>\n",
       "    <tr>\n",
       "      <th>207</th>\n",
       "      <td>😒</td>\n",
       "      <td>-2.24</td>\n",
       "      <td>-1.22</td>\n",
       "      <td>-0.87</td>\n",
       "    </tr>\n",
       "    <tr>\n",
       "      <th>387</th>\n",
       "      <td>🤢</td>\n",
       "      <td>-2.60</td>\n",
       "      <td>-1.46</td>\n",
       "      <td>-0.49</td>\n",
       "    </tr>\n",
       "    <tr>\n",
       "      <th>47</th>\n",
       "      <td>😡</td>\n",
       "      <td>-3.19</td>\n",
       "      <td>0.33</td>\n",
       "      <td>1.21</td>\n",
       "    </tr>\n",
       "  </tbody>\n",
       "</table>\n",
       "</div>"
      ],
      "text/plain": [
       "     Emoji  Evaluation  Potency  Activity\n",
       "1151     💑        3.95     3.63      0.69\n",
       "305      😎        2.18     2.48      0.45\n",
       "783      🌺        2.05     0.33     -0.69\n",
       "250      🙂        1.95     1.10     -0.35\n",
       "147      😃        1.89     2.26      0.95\n",
       "1184     🤚        1.69     2.52      0.88\n",
       "633      😘        1.58     2.23      0.66\n",
       "686      😍        1.49     2.01      0.55\n",
       "740      💪        1.35     2.37      0.83\n",
       "1567    🙏🏽        0.78     1.90     -0.10\n",
       "888     ☺️        0.77     1.31      0.80\n",
       "61       🌝        0.70     2.31      1.01\n",
       "1617    👂🏻        0.48     0.88     -1.52\n",
       "368     ❤️        0.27     2.66      0.03\n",
       "202      😛        0.16     0.77      1.60\n",
       "470      🚶       -0.17    -0.09     -0.69\n",
       "311      😖       -0.34     1.42      1.34\n",
       "177      👎       -0.87     1.76      1.17\n",
       "34       😕       -0.92    -0.09     -0.15\n",
       "4        👹       -1.08     0.67      1.46\n",
       "629      😭       -1.13     0.29     -1.36\n",
       "1545    ⌛️       -1.26    -0.59     -0.57\n",
       "532      😫       -1.29    -1.36     -2.00\n",
       "1075     👊       -1.42     1.50      2.56\n",
       "345      😪       -1.93    -1.26     -1.35\n",
       "908      😠       -2.02     0.10      1.06\n",
       "207      😒       -2.24    -1.22     -0.87\n",
       "387      🤢       -2.60    -1.46     -0.49\n",
       "47       😡       -3.19     0.33      1.21"
      ]
     },
     "execution_count": 11,
     "metadata": {},
     "output_type": "execute_result"
    }
   ],
   "source": [
    "tmp=['😎','😕','😃','😒','😫','👎', '🚶' ,'🙂','🤚','🙏🏽','😍', '😡' ,'☺️','🌝','😠','🌺','😖','😭','❤️','👊','🤢','💑','👂🏻','😛','😘','👹','💪','😪','⌛️']\n",
    "tmp2=emoji2vec_EPA.loc[emoji2vec_EPA.emoj.isin(tmp),['emoj','pred_E','pred_P','pred_A'] ].copy()\n",
    "tmp2.columns = ['Emoji','Evaluation', 'Potency',\"Activity\"]\n",
    "tmp2=tmp2.sort_values(by=['Evaluation'], ascending=False)\n",
    "\n",
    "round(tmp2,2)"
   ]
  },
  {
   "cell_type": "markdown",
   "metadata": {},
   "source": [
    "### Simulation"
   ]
  },
  {
   "cell_type": "markdown",
   "metadata": {},
   "source": [
    "We shoud define $impression$ $change$ $eqation$ and $amalgamation$ equations for simulation. "
   ]
  },
  {
   "cell_type": "code",
   "execution_count": 12,
   "metadata": {},
   "outputs": [],
   "source": [
    "%%R \n",
    "next_state<-function(A_init,B_init,O_init,ABO){\n",
    "ABO=unname(ABO)\n",
    "B_init=unname(B_init)\n",
    "A_init=unname(A_init)\n",
    "O_init=unname(O_init)\n",
    "B_init=as.numeric(B_init)\n",
    "A_init=as.numeric(A_init)\n",
    "O_init=as.numeric(O_init)\n",
    "Ae = A_init[1]\n",
    "Ap = A_init[2]\n",
    "Aa = A_init[3]\n",
    "Be = B_init[1]\n",
    "Bp = B_init[2]\n",
    "Ba = B_init[3]\n",
    "Oe = O_init[1]\n",
    "Op = O_init[2]\n",
    "Oa = O_init[3]\n",
    "rowss=c(A_init,B_init,O_init,Ae*Be , Ae*Op , Ap*Bp , Aa*Ba , Be*Oe , Be*Op , Bp*Oe , Bp*Op ,  Ae*Be*Oe , Ae*Be*Op  )\n",
    "rowss=c(1,A_init,B_init,O_init,Ae*Be , Ae*Op , Ap*Bp , Aa*Ba , Be*Oe , Be*Op , Bp*Oe , Bp*Op ,  Ae*Be*Oe , Ae*Be*Op  )\n",
    "A_final=as.matrix(t(ABO[1:20,2:4]))%*%as.matrix((rowss))\n",
    "B_final=as.matrix(t(ABO[1:20,5:7]))%*%as.matrix((rowss))\n",
    "O_final=as.matrix(t(ABO[1:20,8:10]))%*%as.matrix((rowss))\n",
    "output=cbind(A_init,B_init,O_init,A_final,B_final,O_final)\n",
    "colnames(output)=c(\"Ai\",\"Bi\",\"Oi\",\"A\",\"B\",\"O\")\n",
    "row.names(output)=c(\"E\",\"P\",\"A\")\n",
    "return(t(output)) }"
   ]
  },
  {
   "cell_type": "code",
   "execution_count": 13,
   "metadata": {},
   "outputs": [],
   "source": [
    "%%R \n",
    "amalgamate<-function(S_init,S_modif,amalgamate_i=amalgamate_f){\n",
    "S_init=unname(S_init)\n",
    "S_modif=unname(S_modif)\n",
    "S_init=as.numeric(S_init)\n",
    "S_modif=as.numeric(S_modif)\n",
    " Se = S_init[1]\n",
    " Sp = S_init[2]\n",
    " Sa = S_init[3]\n",
    " Me = S_modif[1]\n",
    " Mp = S_modif[2]\n",
    " Ma = S_modif[3]\n",
    "rowss=c(1,S_modif,S_init,Se*Me, Sa*Me  )\n",
    "S_final=as.matrix(t(amalgamate_i))%*%as.matrix((rowss))\n",
    "row.names(S_final)=c(\"E\",\"P\",\"A\")\n",
    "return(t(S_final))}"
   ]
  },
  {
   "cell_type": "markdown",
   "metadata": {},
   "source": [
    "Importing ABO equations imported from INTERACT software\n",
    "\n",
    "    Heise, D. R. (2013). Interact guide. Department of Sociology, Indiana University."
   ]
  },
  {
   "cell_type": "code",
   "execution_count": 14,
   "metadata": {},
   "outputs": [],
   "source": [
    "%%R \n",
    "m_ABO<- read.table(\"D:/ACT/data/m_ABO.csv\",stringsAsFactor=F)\n",
    "f_ABO<- read.table(\"D:/ACT/data/f_ABO.csv\",stringsAsFactor=F)\n",
    "amalgamate_f=matrix(c(-0.36,.5,0,-.23,.46,0,0,.12,0,-.17,0,.32,.1,0,.55,0,0,.05,-.22,0,0,.44,-.05,0,.66,.02,.03), nrow = 9, ncol = 3)\n",
    "amalgamate_m=matrix(c(-0.36,.5,0,-.23,.46,0,0,.12,0,-.17,0,.32,0,0,.62,0,0,.05,-.22,0,0,.44,-.05,0,.66,.02,.03), nrow = 9, ncol = 3)\n"
   ]
  },
  {
   "cell_type": "markdown",
   "metadata": {},
   "source": [
    "### We  use emojis as modifiers"
   ]
  },
  {
   "cell_type": "code",
   "execution_count": 15,
   "metadata": {},
   "outputs": [
    {
     "data": {
      "text/plain": [
       "array([[1.92030537, 0.9065745 , 0.07204952]])"
      ]
     },
     "execution_count": 15,
     "metadata": {},
     "output_type": "execute_result"
    }
   ],
   "source": [
    "%R t(as.matrix(df['chatbot',]))%*%R"
   ]
  },
  {
   "cell_type": "markdown",
   "metadata": {},
   "source": [
    "### Chatbot interaction\n",
    "\n",
    "| Index | Actor |Chat | Action |Regular| Angry |Happy|\n",
    "| --- | :- | :- | :- |---|---|---|\n",
    "| 1 | Customer | Hello | greet | 😎|😕|😃|\n",
    "| 2 | Chatbot | Hello, I am the Bot | welcome || ||\n",
    "| 3 | Customer | Why my order status is not updated | grouse at| 😒 |😠|🙂|\n",
    "| 4 | Chatbot | What is your order number | question || ||\n",
    "| 5 | Customer | order #8218 | answer | 🌝 |😠|🙂|\n",
    "| 6 | Chatbot | Please wait, I check it | request sth. from||||\n",
    "| 7 | Customer | Take your time | agree with|☺️|🌝|😎|\n",
    "| 8 | Chatbot | It will be delivered in two weeks | answer ||||\n",
    "| 9 | Customer | Not acceptable, it is too late | criticize| 😫|😡|😕|\n",
    "| 10 | Chatbot | Sorry, I can refund the shipping cost | gratify ||||\n",
    "| 11 | Customer | I need full refund | argue with| 👎| 😒|😕|\n",
    "| 12 | Chatbot | You get full refund in two business day| uplift || ||\n",
    "| 13 | Customer | Sounds good | agree | 🙏🏽  |🙏🏽|😍|\n",
    "| 14 | Chatbot | Thank you for contacting us| thank | |||\n",
    "| 15 | Customer | Bye | leaves | 🚶 |🙂|🤚|\n"
   ]
  },
  {
   "cell_type": "markdown",
   "metadata": {},
   "source": [
    "Regular customer"
   ]
  },
  {
   "cell_type": "code",
   "execution_count": 16,
   "metadata": {},
   "outputs": [
    {
     "data": {
      "text/html": [
       "<div>\n",
       "<style scoped>\n",
       "    .dataframe tbody tr th:only-of-type {\n",
       "        vertical-align: middle;\n",
       "    }\n",
       "\n",
       "    .dataframe tbody tr th {\n",
       "        vertical-align: top;\n",
       "    }\n",
       "\n",
       "    .dataframe thead th {\n",
       "        text-align: right;\n",
       "    }\n",
       "</style>\n",
       "<table border=\"1\" class=\"dataframe\">\n",
       "  <thead>\n",
       "    <tr style=\"text-align: right;\">\n",
       "      <th></th>\n",
       "      <th>Emoji</th>\n",
       "      <th>Evaluation</th>\n",
       "      <th>Potency</th>\n",
       "      <th>Activity</th>\n",
       "    </tr>\n",
       "  </thead>\n",
       "  <tbody>\n",
       "    <tr>\n",
       "      <th>305</th>\n",
       "      <td>😎</td>\n",
       "      <td>2.178293</td>\n",
       "      <td>2.481963</td>\n",
       "      <td>0.449180</td>\n",
       "    </tr>\n",
       "    <tr>\n",
       "      <th>1567</th>\n",
       "      <td>🙏🏽</td>\n",
       "      <td>0.776568</td>\n",
       "      <td>1.903584</td>\n",
       "      <td>-0.098765</td>\n",
       "    </tr>\n",
       "    <tr>\n",
       "      <th>888</th>\n",
       "      <td>☺️</td>\n",
       "      <td>0.767798</td>\n",
       "      <td>1.307934</td>\n",
       "      <td>0.803226</td>\n",
       "    </tr>\n",
       "    <tr>\n",
       "      <th>61</th>\n",
       "      <td>🌝</td>\n",
       "      <td>0.697927</td>\n",
       "      <td>2.310001</td>\n",
       "      <td>1.011772</td>\n",
       "    </tr>\n",
       "    <tr>\n",
       "      <th>470</th>\n",
       "      <td>🚶</td>\n",
       "      <td>-0.173665</td>\n",
       "      <td>-0.089336</td>\n",
       "      <td>-0.686307</td>\n",
       "    </tr>\n",
       "    <tr>\n",
       "      <th>177</th>\n",
       "      <td>👎</td>\n",
       "      <td>-0.873020</td>\n",
       "      <td>1.763731</td>\n",
       "      <td>1.172877</td>\n",
       "    </tr>\n",
       "    <tr>\n",
       "      <th>532</th>\n",
       "      <td>😫</td>\n",
       "      <td>-1.289497</td>\n",
       "      <td>-1.355631</td>\n",
       "      <td>-1.997938</td>\n",
       "    </tr>\n",
       "    <tr>\n",
       "      <th>207</th>\n",
       "      <td>😒</td>\n",
       "      <td>-2.240586</td>\n",
       "      <td>-1.222034</td>\n",
       "      <td>-0.871604</td>\n",
       "    </tr>\n",
       "  </tbody>\n",
       "</table>\n",
       "</div>"
      ],
      "text/plain": [
       "     Emoji  Evaluation   Potency  Activity\n",
       "305      😎    2.178293  2.481963  0.449180\n",
       "1567    🙏🏽    0.776568  1.903584 -0.098765\n",
       "888     ☺️    0.767798  1.307934  0.803226\n",
       "61       🌝    0.697927  2.310001  1.011772\n",
       "470      🚶   -0.173665 -0.089336 -0.686307\n",
       "177      👎   -0.873020  1.763731  1.172877\n",
       "532      😫   -1.289497 -1.355631 -1.997938\n",
       "207      😒   -2.240586 -1.222034 -0.871604"
      ]
     },
     "execution_count": 16,
     "metadata": {},
     "output_type": "execute_result"
    }
   ],
   "source": [
    "tmp=['😎','😒','🌝','☺️','😫','👎','🙏🏽','🚶']\n",
    "\n",
    "tmp2=emoji2vec_EPA.loc[emoji2vec_EPA.emoj.isin(tmp),['emoj','pred_E','pred_P','pred_A'] ].copy()\n",
    "tmp2.columns = ['Emoji','Evaluation', 'Potency',\"Activity\"]\n",
    "tmp2=tmp2.sort_values(by=['Evaluation'], ascending=False)\n",
    "\n",
    "tmp2"
   ]
  },
  {
   "cell_type": "markdown",
   "metadata": {},
   "source": [
    "We find the index of emojis from the above table and use it in the simulation."
   ]
  },
  {
   "cell_type": "code",
   "execution_count": 17,
   "metadata": {},
   "outputs": [],
   "source": [
    "%%R \n",
    "Dict_tmp =Combined_Surveyor_2015_behaviors\n",
    "A_init=Combined_Surveyor_2015[Combined_Surveyor_2015$term=='customer',c(\"E\",\"P\",\"A\")]\n",
    "O_init=t(as.matrix(df['chatbot',]))%*%R\n",
    "B_init=Dict_tmp[Dict_tmp$term=='greet',c(\"E\",\"P\",\"A\")]\n",
    "\n",
    "step1_a_init=amalgamate(S_init=A_init,emoji_epa[306,c('pred_E','pred_P','pred_A')])\n",
    "step1=next_state(step1_a_init,B_init,O_init,ABO=m_ABO)\n",
    "step2=next_state(step1[6,],B_init=Dict_tmp[Dict_tmp$term=='welcome',c(\"E\",\"P\",\"A\")],step1[4,],ABO=m_ABO)\n",
    "step3_a_init=amalgamate(S_init=step2[6,],emoji_epa[208,c('pred_E','pred_P','pred_A')])\n",
    "step3=next_state(step3_a_init,B_init=Dict_tmp[Dict_tmp$term=='grouse_at',c(\"E\",\"P\",\"A\")],step2[4,],ABO=m_ABO)\n",
    "step4_a_init=step3[6,]\n",
    "step4=next_state(step4_a_init,B_init=Dict_tmp[Dict_tmp$term=='question',c(\"E\",\"P\",\"A\")],step3[4,],ABO=m_ABO)\n",
    "step5_a_init=amalgamate(S_init=step4[6,],emoji_epa[62,c('pred_E','pred_P','pred_A')])\n",
    "step5=next_state(step5_a_init,B_init=Dict_tmp[Dict_tmp$term=='answer',c(\"E\",\"P\",\"A\")],step4[4,],ABO=m_ABO)\n",
    "step6=next_state(step5[6,],B_init=Dict_tmp[Dict_tmp$term=='request_something_from',c(\"E\",\"P\",\"A\")],step5[1,],ABO=m_ABO)\n",
    "step7_a_init=amalgamate(S_init=step6[6,],emoji_epa[889,c('pred_E','pred_P','pred_A')])\n",
    "step7=next_state(step7_a_init,B_init=Dict_tmp[Dict_tmp$term=='agree_with',c(\"E\",\"P\",\"A\")],step6[4,],ABO=m_ABO)\n",
    "step8_a_init=step7[6,]\n",
    "step8=next_state(step8_a_init,B_init=Dict_tmp[Dict_tmp$term=='answer',c(\"E\",\"P\",\"A\")],step7[4,],ABO=m_ABO)\n",
    "step9_a_init=amalgamate(S_init=step8[6,],emoji_epa[533,c('pred_E','pred_P','pred_A')])\n",
    "step9=next_state(step9_a_init,B_init=Dict_tmp[Dict_tmp$term=='criticize',c(\"E\",\"P\",\"A\")],step8[4,],ABO=m_ABO)\n",
    "step10_a_init=step9[6,]\n",
    "step10=next_state(step10_a_init,B_init=Dict_tmp[Dict_tmp$term=='gratify',c(\"E\",\"P\",\"A\")],step9[4,],ABO=m_ABO)\n",
    "step11_a_init=amalgamate(S_init=step10[6,],emoji_epa[178,c('pred_E','pred_P','pred_A')])\n",
    "step11=next_state(step11_a_init,B_init=Dict_tmp[Dict_tmp$term=='argue_with',c(\"E\",\"P\",\"A\")],step10[4,],ABO=m_ABO)\n",
    "step12_a_init=step11[6,]\n",
    "step12=next_state(step12_a_init,B_init=Dict_tmp[Dict_tmp$term=='uplift',c(\"E\",\"P\",\"A\")],step11[4,],ABO=m_ABO)\n",
    "step13_a_init=amalgamate(S_init=step12[6,],emoji_epa[1568,c('pred_E','pred_P','pred_A')])\n",
    "step13=next_state(step13_a_init,B_init=Dict_tmp[Dict_tmp$term=='agree_with',c(\"E\",\"P\",\"A\")],step12[4,],ABO=m_ABO)\n",
    "step14_a_init=step13[6,]\n",
    "step14=next_state(step14_a_init,B_init=Dict_tmp[Dict_tmp$term=='thank',c(\"E\",\"P\",\"A\")],step13[4,],ABO=m_ABO)\n",
    "step15_a_init=amalgamate(S_init=step14[6,],emoji_epa[471,c('pred_E','pred_P','pred_A')])\n",
    "step15=next_state(step15_a_init,B_init=Dict_tmp[Dict_tmp$term=='leave',c(\"E\",\"P\",\"A\")],step14[4,],ABO=m_ABO)\n",
    "\n",
    "O_E=c(step1['O','E'],step2['A','E'],step3['A','E'],step4['O','E'],step5['A','E'],step6['O','E'],step7['A','E'],step8['O','E'],step9['O','E'],step10['O','E'],step11['O','E'],step12['O','E'],step13['O','E'],step14['O','E'],step15['O','E'])-step1['Oi','E']\n",
    "O_P=c(step1['O','P'],step2['A','P'],step3['A','P'],step4['O','P'],step5['A','P'],step6['O','P'],step7['A','P'],step8['O','P'],step9['O','P'],step10['O','P'],step11['O','P'],step12['O','P'],step13['O','P'],step14['O','P'],step15['O','P'])-step1['Oi','P']\n",
    "O_A=c(step1['O','A'],step2['A','A'],step3['A','A'],step4['O','A'],step5['A','A'],step6['O','A'],step7['A','A'],step8['O','A'],step9['O','A'],step10['O','A'],step11['O','A'],step12['O','A'],step13['O','A'],step14['O','A'],step15['O','A'])-step1['Oi','A']\n",
    "\n",
    "A_E=c(step1['A','E'],step2['O','E'],step3['A','E'],step4['O','E'],step5['A','E'],step6['O','E'],step7['A','E'],step8['O','E'],step9['O','E'],step10['O','E'],step11['O','E'],step12['O','E'],step13['O','E'],step14['O','E'],step15['O','E'])-step1['Ai','E']\n",
    "A_P=c(step1['A','P'],step2['O','P'],step3['A','P'],step4['O','P'],step5['A','P'],step6['O','P'],step7['A','P'],step8['O','P'],step9['O','P'],step10['O','P'],step11['O','P'],step12['O','P'],step13['O','P'],step14['O','P'],step15['O','P'])-step1['Ai','P']\n",
    "A_A=c(step1['A','A'],step2['O','A'],step3['A','A'],step4['O','A'],step5['A','A'],step6['O','A'],step7['A','A'],step8['O','A'],step9['O','A'],step10['O','A'],step11['O','A'],step12['O','A'],step13['O','A'],step14['O','A'],step15['O','A'])-step1['Ai','A']\n",
    "\n"
   ]
  },
  {
   "cell_type": "code",
   "execution_count": 18,
   "metadata": {},
   "outputs": [
    {
     "data": {
      "image/png": "[encoded data removed]"
     },
     "metadata": {},
     "output_type": "display_data"
    }
   ],
   "source": [
    "%%R\n",
    "\n",
    "list_plot=list(O_E,O_P,O_A)\n",
    "a_df = do.call(\"rbind\", lapply(list_plot, function(x) data.frame(step =seq_along(x), EPA =  x)))\n",
    "a_df$ID = rep(c('Chatbot Evaluation Deflection','Chatbot Potency Deflection','Chatbot Activity Deflection'), sapply(list_plot, length))\n",
    "ggplot(a_df, aes(x = step, y = EPA, color = ID)) + geom_line()+ coord_cartesian( ylim = c(-4, 4))\n"
   ]
  },
  {
   "cell_type": "code",
   "execution_count": 19,
   "metadata": {},
   "outputs": [
    {
     "data": {
      "image/png": "[encoded data removed]"
     },
     "metadata": {},
     "output_type": "display_data"
    }
   ],
   "source": [
    "%%R\n",
    "list_plot=list(A_E,A_P,A_A)\n",
    "a_df = do.call(\"rbind\", lapply(list_plot, function(x) data.frame(step =seq_along(x), EPA =  x)))\n",
    "a_df$ID = rep(c('Customer Evaluation Deflection','Customer Potency Deflection','Customer Activity Deflection'), sapply(list_plot, length))\n",
    "ggplot(a_df, aes(x = step, y = EPA, color = ID)) + geom_line()+ coord_cartesian( ylim = c(-4.5, 4.5))\n"
   ]
  },
  {
   "cell_type": "markdown",
   "metadata": {},
   "source": [
    "#### Let's do the same without modifiers:"
   ]
  },
  {
   "cell_type": "code",
   "execution_count": 20,
   "metadata": {},
   "outputs": [],
   "source": [
    "%%R \n",
    "Dict_tmp =Combined_Surveyor_2015_behaviors\n",
    "A_init=Combined_Surveyor_2015[Combined_Surveyor_2015$term=='customer',c(\"E\",\"P\",\"A\")]\n",
    "O_init=t(as.matrix(df['chatbot',]))%*%R\n",
    "B_init=Dict_tmp[Dict_tmp$term=='greet',c(\"E\",\"P\",\"A\")]\n",
    "\n",
    "step1_a_init=amalgamate(S_init=A_init,emoji_epa[306,c('pred_E','pred_P','pred_A')])\n",
    "step1=next_state(step1_a_init,B_init,O_init,ABO=m_ABO)\n",
    "step2=next_state(step1[6,],B_init=Dict_tmp[Dict_tmp$term=='welcome',c(\"E\",\"P\",\"A\")],step1[4,],ABO=m_ABO)\n",
    "step3_a_init=amalgamate(S_init=step2[6,],emoji_epa[208,c('pred_E','pred_P','pred_A')])\n",
    "step3=next_state(step3_a_init,B_init=Dict_tmp[Dict_tmp$term=='grouse_at',c(\"E\",\"P\",\"A\")],step2[4,],ABO=m_ABO)\n",
    "step4_a_init=step3[6,]\n",
    "step4=next_state(step4_a_init,B_init=Dict_tmp[Dict_tmp$term=='question',c(\"E\",\"P\",\"A\")],step3[4,],ABO=m_ABO)\n",
    "step5_a_init=amalgamate(S_init=step4[6,],emoji_epa[62,c('pred_E','pred_P','pred_A')])\n",
    "step5=next_state(step5_a_init,B_init=Dict_tmp[Dict_tmp$term=='answer',c(\"E\",\"P\",\"A\")],step4[4,],ABO=m_ABO)\n",
    "step6=next_state(step5[6,],B_init=Dict_tmp[Dict_tmp$term=='request_something_from',c(\"E\",\"P\",\"A\")],step5[1,],ABO=m_ABO)\n",
    "step7_a_init=amalgamate(S_init=step6[6,],emoji_epa[889,c('pred_E','pred_P','pred_A')])\n",
    "step7=next_state(step7_a_init,B_init=Dict_tmp[Dict_tmp$term=='agree_with',c(\"E\",\"P\",\"A\")],step6[4,],ABO=m_ABO)\n",
    "step8_a_init=step7[6,]\n",
    "step8=next_state(step8_a_init,B_init=Dict_tmp[Dict_tmp$term=='answer',c(\"E\",\"P\",\"A\")],step7[4,],ABO=m_ABO)\n",
    "step9_a_init=amalgamate(S_init=step8[6,],emoji_epa[533,c('pred_E','pred_P','pred_A')])\n",
    "step9=next_state(step9_a_init,B_init=Dict_tmp[Dict_tmp$term=='criticize',c(\"E\",\"P\",\"A\")],step8[4,],ABO=m_ABO)\n",
    "step10_a_init=step9[6,]\n",
    "step10=next_state(step10_a_init,B_init=Dict_tmp[Dict_tmp$term=='gratify',c(\"E\",\"P\",\"A\")],step9[4,],ABO=m_ABO)\n",
    "step11_a_init=amalgamate(S_init=step10[6,],emoji_epa[178,c('pred_E','pred_P','pred_A')])\n",
    "step11=next_state(step11_a_init,B_init=Dict_tmp[Dict_tmp$term=='argue_with',c(\"E\",\"P\",\"A\")],step10[4,],ABO=m_ABO)\n",
    "step12_a_init=step11[6,]\n",
    "step12=next_state(step12_a_init,B_init=Dict_tmp[Dict_tmp$term=='uplift',c(\"E\",\"P\",\"A\")],step11[4,],ABO=m_ABO)\n",
    "step13_a_init=amalgamate(S_init=step12[6,],emoji_epa[1568,c('pred_E','pred_P','pred_A')])\n",
    "step13=next_state(step13_a_init,B_init=Dict_tmp[Dict_tmp$term=='agree_with',c(\"E\",\"P\",\"A\")],step12[4,],ABO=m_ABO)\n",
    "step14_a_init=step13[6,]\n",
    "step14=next_state(step14_a_init,B_init=Dict_tmp[Dict_tmp$term=='thank',c(\"E\",\"P\",\"A\")],step13[4,],ABO=m_ABO)\n",
    "step15_a_init=amalgamate(S_init=step14[6,],emoji_epa[471,c('pred_E','pred_P','pred_A')])\n",
    "step15=next_state(step15_a_init,B_init=Dict_tmp[Dict_tmp$term=='leave',c(\"E\",\"P\",\"A\")],step14[4,],ABO=m_ABO)\n",
    "\n",
    "O_E=c(step1['Oi','E'],step1['O','E'],step2['A','E'],step3['A','E'],step4['O','E'],step5['A','E'],step6['O','E'],step7['A','E'],step8['O','E'],step9['O','E'],step10['O','E'],step11['O','E'],step12['O','E'],step13['O','E'],step14['O','E'],step15['O','E'])\n",
    "O_P=c(step1['Oi','P'],step1['O','P'],step2['A','P'],step3['A','P'],step4['O','P'],step5['A','P'],step6['O','P'],step7['A','P'],step8['O','P'],step9['O','P'],step10['O','P'],step11['O','P'],step12['O','P'],step13['O','P'],step14['O','P'],step15['O','P'])\n",
    "O_A=c(step1['Oi','A'],step1['O','A'],step2['A','A'],step3['A','A'],step4['O','A'],step5['A','A'],step6['O','A'],step7['A','A'],step8['O','A'],step9['O','A'],step10['O','A'],step11['O','A'],step12['O','A'],step13['O','A'],step14['O','A'],step15['O','A'])\n",
    "\n",
    "A_E=c(step1['Ai','E'],step1['A','E'],step2['O','E'],step3['A','E'],step4['O','E'],step5['A','E'],step6['O','E'],step7['A','E'],step8['O','E'],step9['O','E'],step10['O','E'],step11['O','E'],step12['O','E'],step13['O','E'],step14['O','E'],step15['O','E'])\n",
    "A_P=c(step1['Ai','P'],step1['A','P'],step2['O','P'],step3['A','P'],step4['O','P'],step5['A','P'],step6['O','P'],step7['A','P'],step8['O','P'],step9['O','P'],step10['O','P'],step11['O','P'],step12['O','P'],step13['O','P'],step14['O','P'],step15['O','P'])\n",
    "A_A=c(step1['Ai','A'],step1['A','A'],step2['O','A'],step3['A','A'],step4['O','A'],step5['A','A'],step6['O','A'],step7['A','A'],step8['O','A'],step9['O','A'],step10['O','A'],step11['O','A'],step12['O','A'],step13['O','A'],step14['O','A'],step15['O','A'])\n",
    "\n",
    "B_E=c(step1['Bi','E'],step1['B','E'],step2['B','E'],step3['B','E'],step4['B','E'],step5['B','E'],step6['B','E'],step7['B','E'],step8['B','E'],step9['B','E'],step10['B','E'],step11['B','E'],step12['B','E'],step13['B','E'],step14['B','E'],step15['B','E'])\n",
    "B_P=c(step1['Bi','P'],step1['B','P'],step2['B','P'],step3['B','P'],step4['B','P'],step5['B','P'],step6['B','P'],step7['B','P'],step8['B','P'],step9['B','P'],step10['B','P'],step11['B','P'],step12['B','P'],step13['B','P'],step14['B','P'],step15['B','P'])\n",
    "B_A=c(step1['Bi','A'],step1['B','A'],step2['B','A'],step3['B','A'],step4['B','A'],step5['B','A'],step6['B','A'],step7['B','A'],step8['B','A'],step9['B','A'],step10['B','A'],step11['B','A'],step12['B','A'],step13['B','A'],step14['B','A'],step15['B','A'])\n",
    "\n",
    "\n",
    "O_E_change=as.numeric(na.omit(O_E-dplyr::lag(O_E)))\n",
    "O_P_change=as.numeric(na.omit(O_P-dplyr::lag(O_P)))\n",
    "O_A_change=as.numeric(na.omit(O_A-dplyr::lag(O_A)))\n",
    "A_E_change=as.numeric(na.omit(A_E-dplyr::lag(A_E)))\n",
    "A_P_change=as.numeric(na.omit(A_P-dplyr::lag(A_P)))\n",
    "A_A_change=as.numeric(na.omit(A_A-dplyr::lag(A_A)))\n"
   ]
  },
  {
   "cell_type": "code",
   "execution_count": 21,
   "metadata": {},
   "outputs": [],
   "source": [
    "%%R \n",
    "Dict_tmp =Combined_Surveyor_2015_behaviors\n",
    "A_init=Combined_Surveyor_2015[Combined_Surveyor_2015$term=='customer',c(\"E\",\"P\",\"A\")]\n",
    "O_init=t(as.matrix(df['chatbot',]))%*%R\n",
    "B_init=Dict_tmp[Dict_tmp$term=='greet',c(\"E\",\"P\",\"A\")]\n",
    "\n",
    "step1=next_state(A_init,B_init,O_init,ABO=m_ABO)\n",
    "step2=next_state(step1[6,],B_init=Dict_tmp[Dict_tmp$term=='welcome',c(\"E\",\"P\",\"A\")],step1[4,],ABO=m_ABO)\n",
    "step3=next_state(step2[6,],B_init=Dict_tmp[Dict_tmp$term=='grouse_at',c(\"E\",\"P\",\"A\")],step2[4,],ABO=m_ABO)\n",
    "step4=next_state(step3[6,],B_init=Dict_tmp[Dict_tmp$term=='question',c(\"E\",\"P\",\"A\")],step3[4,],ABO=m_ABO)\n",
    "step5=next_state(step4[6,],B_init=Dict_tmp[Dict_tmp$term=='answer',c(\"E\",\"P\",\"A\")],step4[4,],ABO=m_ABO)\n",
    "step6=next_state(step5[6,],B_init=Dict_tmp[Dict_tmp$term=='request_something_from',c(\"E\",\"P\",\"A\")],step5[1,],ABO=m_ABO)\n",
    "step7=next_state(step6[6,],B_init=Dict_tmp[Dict_tmp$term=='agree_with',c(\"E\",\"P\",\"A\")],step6[4,],ABO=m_ABO)\n",
    "step8=next_state(step7[6,],B_init=Dict_tmp[Dict_tmp$term=='answer',c(\"E\",\"P\",\"A\")],step7[4,],ABO=m_ABO)\n",
    "step9=next_state(step8[6,],B_init=Dict_tmp[Dict_tmp$term=='criticize',c(\"E\",\"P\",\"A\")],step8[4,],ABO=m_ABO)\n",
    "step10=next_state(step9[6,],B_init=Dict_tmp[Dict_tmp$term=='gratify',c(\"E\",\"P\",\"A\")],step9[4,],ABO=m_ABO)\n",
    "step11=next_state(step10[6,],B_init=Dict_tmp[Dict_tmp$term=='argue_with',c(\"E\",\"P\",\"A\")],step10[4,],ABO=m_ABO)\n",
    "step12=next_state(step11[6,],B_init=Dict_tmp[Dict_tmp$term=='uplift',c(\"E\",\"P\",\"A\")],step11[4,],ABO=m_ABO)\n",
    "step13=next_state(step12[6,],B_init=Dict_tmp[Dict_tmp$term=='agree_with',c(\"E\",\"P\",\"A\")],step12[4,],ABO=m_ABO)\n",
    "step14=next_state(step13[6,],B_init=Dict_tmp[Dict_tmp$term=='thank',c(\"E\",\"P\",\"A\")],step13[4,],ABO=m_ABO)\n",
    "step15=next_state(step14[6,],B_init=Dict_tmp[Dict_tmp$term=='leave',c(\"E\",\"P\",\"A\")],step14[4,],ABO=m_ABO)\n",
    "\n",
    "O_E2=c(step1['Oi','E'],step1['O','E'],step2['A','E'],step3['A','E'],step4['O','E'],step5['A','E'],step6['O','E'],step7['A','E'],step8['O','E'],step9['O','E'],step10['O','E'],step11['O','E'],step12['O','E'],step13['O','E'],step14['O','E'],step15['O','E'])\n",
    "O_P2=c(step1['Oi','P'],step1['O','P'],step2['A','P'],step3['A','P'],step4['O','P'],step5['A','P'],step6['O','P'],step7['A','P'],step8['O','P'],step9['O','P'],step10['O','P'],step11['O','P'],step12['O','P'],step13['O','P'],step14['O','P'],step15['O','P'])\n",
    "O_A2=c(step1['Oi','A'],step1['O','A'],step2['A','A'],step3['A','A'],step4['O','A'],step5['A','A'],step6['O','A'],step7['A','A'],step8['O','A'],step9['O','A'],step10['O','A'],step11['O','A'],step12['O','A'],step13['O','A'],step14['O','A'],step15['O','A'])\n",
    "\n",
    "A_E2=c(step1['Ai','E'],step1['A','E'],step2['O','E'],step3['A','E'],step4['O','E'],step5['A','E'],step6['O','E'],step7['A','E'],step8['O','E'],step9['O','E'],step10['O','E'],step11['O','E'],step12['O','E'],step13['O','E'],step14['O','E'],step15['O','E'])\n",
    "A_P2=c(step1['Ai','P'],step1['A','P'],step2['O','P'],step3['A','P'],step4['O','P'],step5['A','P'],step6['O','P'],step7['A','P'],step8['O','P'],step9['O','P'],step10['O','P'],step11['O','P'],step12['O','P'],step13['O','P'],step14['O','P'],step15['O','P'])\n",
    "A_A2=c(step1['Ai','A'],step1['A','A'],step2['O','A'],step3['A','A'],step4['O','A'],step5['A','A'],step6['O','A'],step7['A','A'],step8['O','A'],step9['O','A'],step10['O','A'],step11['O','A'],step12['O','A'],step13['O','A'],step14['O','A'],step15['O','A'])\n",
    "\n",
    "B_E2=c(step1['Bi','E'],step1['B','E'],step2['B','E'],step3['B','E'],step4['B','E'],step5['B','E'],step6['B','E'],step7['B','E'],step8['B','E'],step9['B','E'],step10['B','E'],step11['B','E'],step12['B','E'],step13['B','E'],step14['B','E'],step15['B','E'])\n",
    "B_P2=c(step1['Bi','P'],step1['B','P'],step2['B','P'],step3['B','P'],step4['B','P'],step5['B','P'],step6['B','P'],step7['B','P'],step8['B','P'],step9['B','P'],step10['B','P'],step11['B','P'],step12['B','P'],step13['B','P'],step14['B','P'],step15['B','P'])\n",
    "B_A2=c(step1['Bi','A'],step1['B','A'],step2['B','A'],step3['B','A'],step4['B','A'],step5['B','A'],step6['B','A'],step7['B','A'],step8['B','A'],step9['B','A'],step10['B','A'],step11['B','A'],step12['B','A'],step13['B','A'],step14['B','A'],step15['B','A'])\n",
    "\n",
    "\n",
    "O_E2_change=as.numeric(na.omit(O_E2-dplyr::lag(O_E2)))\n",
    "O_P2_change=as.numeric(na.omit(O_P2-dplyr::lag(O_P2)))\n",
    "O_A2_change=as.numeric(na.omit(O_A2-dplyr::lag(O_A2)))\n",
    "A_E2_change=as.numeric(na.omit(A_E2-dplyr::lag(A_E2)))\n",
    "A_P2_change=as.numeric(na.omit(A_P2-dplyr::lag(A_P2)))\n",
    "A_A2_change=as.numeric(na.omit(A_A2-dplyr::lag(A_A2)))\n",
    "\n"
   ]
  },
  {
   "cell_type": "markdown",
   "metadata": {},
   "source": [
    "Happy customer"
   ]
  },
  {
   "cell_type": "code",
   "execution_count": 22,
   "metadata": {},
   "outputs": [],
   "source": [
    "%%R \n",
    "Dict_tmp =Combined_Surveyor_2015_behaviors\n",
    "A_init=Combined_Surveyor_2015[Combined_Surveyor_2015$term=='customer',c(\"E\",\"P\",\"A\")]\n",
    "O_init=t(as.matrix(df['chatbot',]))%*%R\n",
    "B_init=Dict_tmp[Dict_tmp$term=='greet',c(\"E\",\"P\",\"A\")]\n",
    "\n",
    "step1_a_init=amalgamate(S_init=A_init,emoji_epa[148,c('pred_E','pred_P','pred_A')])\n",
    "step1=next_state(step1_a_init,B_init,O_init,ABO=m_ABO)\n",
    "step2=next_state(step1[6,],B_init=Dict_tmp[Dict_tmp$term=='welcome',c(\"E\",\"P\",\"A\")],step1[4,],ABO=m_ABO)\n",
    "step3_a_init=amalgamate(S_init=step2[6,],emoji_epa[251,c('pred_E','pred_P','pred_A')])\n",
    "step3=next_state(step3_a_init,B_init=Dict_tmp[Dict_tmp$term=='grouse_at',c(\"E\",\"P\",\"A\")],step2[4,],ABO=m_ABO)\n",
    "step4_a_init=step3[6,]\n",
    "step4=next_state(step4_a_init,B_init=Dict_tmp[Dict_tmp$term=='question',c(\"E\",\"P\",\"A\")],step3[4,],ABO=m_ABO)\n",
    "step5_a_init=amalgamate(S_init=step4[6,],emoji_epa[251,c('pred_E','pred_P','pred_A')])\n",
    "step5=next_state(step5_a_init,B_init=Dict_tmp[Dict_tmp$term=='answer',c(\"E\",\"P\",\"A\")],step4[4,],ABO=m_ABO)\n",
    "step6=next_state(step5[6,],B_init=Dict_tmp[Dict_tmp$term=='request_something_from',c(\"E\",\"P\",\"A\")],step5[1,],ABO=m_ABO)\n",
    "step7_a_init=amalgamate(S_init=step6[6,],emoji_epa[306,c('pred_E','pred_P','pred_A')])\n",
    "step7=next_state(step7_a_init,B_init=Dict_tmp[Dict_tmp$term=='agree_with',c(\"E\",\"P\",\"A\")],step6[4,],ABO=m_ABO)\n",
    "step8_a_init=step7[6,]\n",
    "step8=next_state(step8_a_init,B_init=Dict_tmp[Dict_tmp$term=='answer',c(\"E\",\"P\",\"A\")],step7[4,],ABO=m_ABO)\n",
    "step9_a_init=amalgamate(S_init=step8[6,],emoji_epa[35,c('pred_E','pred_P','pred_A')])\n",
    "step9=next_state(step9_a_init,B_init=Dict_tmp[Dict_tmp$term=='criticize',c(\"E\",\"P\",\"A\")],step8[4,],ABO=m_ABO)\n",
    "step10_a_init=step9[6,]\n",
    "step10=next_state(step10_a_init,B_init=Dict_tmp[Dict_tmp$term=='gratify',c(\"E\",\"P\",\"A\")],step9[4,],ABO=m_ABO)\n",
    "step11_a_init=amalgamate(S_init=step10[6,],emoji_epa[35,c('pred_E','pred_P','pred_A')])\n",
    "step11=next_state(step11_a_init,B_init=Dict_tmp[Dict_tmp$term=='argue_with',c(\"E\",\"P\",\"A\")],step10[4,],ABO=m_ABO)\n",
    "step12_a_init=step11[6,]\n",
    "step12=next_state(step12_a_init,B_init=Dict_tmp[Dict_tmp$term=='uplift',c(\"E\",\"P\",\"A\")],step11[4,],ABO=m_ABO)\n",
    "step13_a_init=amalgamate(S_init=step12[6,],emoji_epa[687,c('pred_E','pred_P','pred_A')])\n",
    "step13=next_state(step13_a_init,B_init=Dict_tmp[Dict_tmp$term=='agree_with',c(\"E\",\"P\",\"A\")],step12[4,],ABO=m_ABO)\n",
    "step14_a_init=step13[6,]\n",
    "step14=next_state(step14_a_init,B_init=Dict_tmp[Dict_tmp$term=='thank',c(\"E\",\"P\",\"A\")],step13[4,],ABO=m_ABO)\n",
    "\n",
    "step15_a_init=amalgamate(S_init=step14[6,],emoji_epa[1185,c('pred_E','pred_P','pred_A')])\n",
    "step15=next_state(step15_a_init,B_init=Dict_tmp[Dict_tmp$term=='leave',c(\"E\",\"P\",\"A\")],step14[4,],ABO=m_ABO)\n",
    "\n",
    "\n",
    "\n",
    "O_E_H=c(step1['Oi','E'],step1['O','E'],step2['A','E'],step3['A','E'],step4['O','E'],step5['A','E'],step6['O','E'],step7['A','E'],step8['O','E'],step9['O','E'],step10['O','E'],step11['O','E'],step12['O','E'],step13['O','E'],step14['O','E'],step15['O','E'])\n",
    "O_P_H=c(step1['Oi','P'],step1['O','P'],step2['A','P'],step3['A','P'],step4['O','P'],step5['A','P'],step6['O','P'],step7['A','P'],step8['O','P'],step9['O','P'],step10['O','P'],step11['O','P'],step12['O','P'],step13['O','P'],step14['O','P'],step15['O','P'])\n",
    "O_A_H=c(step1['Oi','A'],step1['O','A'],step2['A','A'],step3['A','A'],step4['O','A'],step5['A','A'],step6['O','A'],step7['A','A'],step8['O','A'],step9['O','A'],step10['O','A'],step11['O','A'],step12['O','A'],step13['O','A'],step14['O','A'],step15['O','A'])\n",
    "\n",
    "A_E_H=c(step1['Ai','E'],step1['A','E'],step2['O','E'],step3['A','E'],step4['O','E'],step5['A','E'],step6['O','E'],step7['A','E'],step8['O','E'],step9['O','E'],step10['O','E'],step11['O','E'],step12['O','E'],step13['O','E'],step14['O','E'],step15['O','E'])\n",
    "A_P_H=c(step1['Ai','P'],step1['A','P'],step2['O','P'],step3['A','P'],step4['O','P'],step5['A','P'],step6['O','P'],step7['A','P'],step8['O','P'],step9['O','P'],step10['O','P'],step11['O','P'],step12['O','P'],step13['O','P'],step14['O','P'],step15['O','P'])\n",
    "A_A_H=c(step1['Ai','A'],step1['A','A'],step2['O','A'],step3['A','A'],step4['O','A'],step5['A','A'],step6['O','A'],step7['A','A'],step8['O','A'],step9['O','A'],step10['O','A'],step11['O','A'],step12['O','A'],step13['O','A'],step14['O','A'],step15['O','A'])\n",
    "\n",
    "\n",
    "B_E_H=c(step1['Bi','E'],step1['B','E'],step2['B','E'],step3['B','E'],step4['B','E'],step5['B','E'],step6['B','E'],step7['B','E'],step8['B','E'],step9['B','E'],step10['B','E'],step11['B','E'],step12['B','E'],step13['B','E'],step14['B','E'],step15['B','E'])\n",
    "B_P_H=c(step1['Bi','P'],step1['B','P'],step2['B','P'],step3['B','P'],step4['B','P'],step5['B','P'],step6['B','P'],step7['B','P'],step8['B','P'],step9['B','P'],step10['B','P'],step11['B','P'],step12['B','P'],step13['B','P'],step14['B','P'],step15['B','P'])\n",
    "B_A_H=c(step1['Bi','A'],step1['B','A'],step2['B','A'],step3['B','A'],step4['B','A'],step5['B','A'],step6['B','A'],step7['B','A'],step8['B','A'],step9['B','A'],step10['B','A'],step11['B','A'],step12['B','A'],step13['B','A'],step14['B','A'],step15['B','A'])\n",
    "\n",
    "\n",
    "O_E_H_change=as.numeric(na.omit(O_E_H-dplyr::lag(O_E_H)))\n",
    "O_P_H_change=as.numeric(na.omit(O_P_H-dplyr::lag(O_P_H)))\n",
    "O_A_H_change=as.numeric(na.omit(O_A_H-dplyr::lag(O_A_H)))\n",
    "A_E_H_change=as.numeric(na.omit(A_E_H-dplyr::lag(A_E_H)))\n",
    "A_P_H_change=as.numeric(na.omit(A_P_H-dplyr::lag(A_P_H)))\n",
    "A_A_H_change=as.numeric(na.omit(A_A_H-dplyr::lag(A_A_H)))\n",
    "\n",
    "\n",
    "\n"
   ]
  },
  {
   "cell_type": "markdown",
   "metadata": {},
   "source": [
    "Angry customer "
   ]
  },
  {
   "cell_type": "code",
   "execution_count": 23,
   "metadata": {},
   "outputs": [
    {
     "data": {
      "text/html": [
       "<div>\n",
       "<style scoped>\n",
       "    .dataframe tbody tr th:only-of-type {\n",
       "        vertical-align: middle;\n",
       "    }\n",
       "\n",
       "    .dataframe tbody tr th {\n",
       "        vertical-align: top;\n",
       "    }\n",
       "\n",
       "    .dataframe thead th {\n",
       "        text-align: right;\n",
       "    }\n",
       "</style>\n",
       "<table border=\"1\" class=\"dataframe\">\n",
       "  <thead>\n",
       "    <tr style=\"text-align: right;\">\n",
       "      <th></th>\n",
       "      <th>Emoji</th>\n",
       "      <th>Evaluation</th>\n",
       "      <th>Potency</th>\n",
       "      <th>Activity</th>\n",
       "    </tr>\n",
       "  </thead>\n",
       "  <tbody>\n",
       "    <tr>\n",
       "      <th>783</th>\n",
       "      <td>🌺</td>\n",
       "      <td>2.051680</td>\n",
       "      <td>0.331765</td>\n",
       "      <td>-0.692770</td>\n",
       "    </tr>\n",
       "    <tr>\n",
       "      <th>250</th>\n",
       "      <td>🙂</td>\n",
       "      <td>1.952153</td>\n",
       "      <td>1.095938</td>\n",
       "      <td>-0.353486</td>\n",
       "    </tr>\n",
       "    <tr>\n",
       "      <th>633</th>\n",
       "      <td>😘</td>\n",
       "      <td>1.579295</td>\n",
       "      <td>2.225755</td>\n",
       "      <td>0.656216</td>\n",
       "    </tr>\n",
       "    <tr>\n",
       "      <th>1567</th>\n",
       "      <td>🙏🏽</td>\n",
       "      <td>0.776568</td>\n",
       "      <td>1.903584</td>\n",
       "      <td>-0.098765</td>\n",
       "    </tr>\n",
       "    <tr>\n",
       "      <th>61</th>\n",
       "      <td>🌝</td>\n",
       "      <td>0.697927</td>\n",
       "      <td>2.310001</td>\n",
       "      <td>1.011772</td>\n",
       "    </tr>\n",
       "    <tr>\n",
       "      <th>450</th>\n",
       "      <td>😅</td>\n",
       "      <td>-0.523085</td>\n",
       "      <td>0.434388</td>\n",
       "      <td>-0.381348</td>\n",
       "    </tr>\n",
       "    <tr>\n",
       "      <th>34</th>\n",
       "      <td>😕</td>\n",
       "      <td>-0.917981</td>\n",
       "      <td>-0.090738</td>\n",
       "      <td>-0.148879</td>\n",
       "    </tr>\n",
       "    <tr>\n",
       "      <th>908</th>\n",
       "      <td>😠</td>\n",
       "      <td>-2.021838</td>\n",
       "      <td>0.098667</td>\n",
       "      <td>1.064923</td>\n",
       "    </tr>\n",
       "    <tr>\n",
       "      <th>1001</th>\n",
       "      <td>😢</td>\n",
       "      <td>-2.110436</td>\n",
       "      <td>0.270396</td>\n",
       "      <td>0.008269</td>\n",
       "    </tr>\n",
       "    <tr>\n",
       "      <th>207</th>\n",
       "      <td>😒</td>\n",
       "      <td>-2.240586</td>\n",
       "      <td>-1.222034</td>\n",
       "      <td>-0.871604</td>\n",
       "    </tr>\n",
       "    <tr>\n",
       "      <th>47</th>\n",
       "      <td>😡</td>\n",
       "      <td>-3.193763</td>\n",
       "      <td>0.332305</td>\n",
       "      <td>1.208205</td>\n",
       "    </tr>\n",
       "  </tbody>\n",
       "</table>\n",
       "</div>"
      ],
      "text/plain": [
       "     Emoji  Evaluation   Potency  Activity\n",
       "783      🌺    2.051680  0.331765 -0.692770\n",
       "250      🙂    1.952153  1.095938 -0.353486\n",
       "633      😘    1.579295  2.225755  0.656216\n",
       "1567    🙏🏽    0.776568  1.903584 -0.098765\n",
       "61       🌝    0.697927  2.310001  1.011772\n",
       "450      😅   -0.523085  0.434388 -0.381348\n",
       "34       😕   -0.917981 -0.090738 -0.148879\n",
       "908      😠   -2.021838  0.098667  1.064923\n",
       "1001     😢   -2.110436  0.270396  0.008269\n",
       "207      😒   -2.240586 -1.222034 -0.871604\n",
       "47       😡   -3.193763  0.332305  1.208205"
      ]
     },
     "execution_count": 23,
     "metadata": {},
     "output_type": "execute_result"
    }
   ],
   "source": [
    "tmp=['😅','😢','🌺','😘','😕','😠', '🌝', '😡','😒', '🙏🏽', '🙂']\n",
    "\n",
    "tmp2=emoji2vec_EPA.loc[emoji2vec_EPA.emoj.isin(tmp),['emoj','pred_E','pred_P','pred_A'] ].copy()\n",
    "tmp2.columns = ['Emoji','Evaluation', 'Potency',\"Activity\"]\n",
    "tmp2=tmp2.sort_values(by=['Evaluation'], ascending=False)\n",
    "\n",
    "tmp2"
   ]
  },
  {
   "cell_type": "code",
   "execution_count": 24,
   "metadata": {},
   "outputs": [],
   "source": [
    "%%R \n",
    "\n",
    "print(Combined_Surveyor_2015[Combined_Surveyor_2015$term=='customer',c(\"E\",\"P\",\"A\")])\n",
    "\n",
    "Dict_tmp =Combined_Surveyor_2015_behaviors\n",
    "A_init=Combined_Surveyor_2015[Combined_Surveyor_2015$term=='customer',c(\"E\",\"P\",\"A\")]\n",
    "O_init=t(as.matrix(df['chatbot',]))%*%R\n",
    "B_init=Dict_tmp[Dict_tmp$term=='greet',c(\"E\",\"P\",\"A\")]\n",
    "\n",
    "step1_a_init=amalgamate(S_init=A_init,emoji_epa[35,c('pred_E','pred_P','pred_A')])\n",
    "step1=next_state(step1_a_init,B_init,O_init,ABO=m_ABO)\n",
    "step2=next_state(step1[6,],B_init=Dict_tmp[Dict_tmp$term=='welcome',c(\"E\",\"P\",\"A\")],step1[4,],ABO=m_ABO)\n",
    "step3_a_init=amalgamate(S_init=step2[6,],emoji_epa[909,c('pred_E','pred_P','pred_A')])\n",
    "step3=next_state(step3_a_init,B_init=Dict_tmp[Dict_tmp$term=='grouse_at',c(\"E\",\"P\",\"A\")],step2[4,],ABO=m_ABO)\n",
    "step4_a_init=step3[6,]\n",
    "step4=next_state(step4_a_init,B_init=Dict_tmp[Dict_tmp$term=='question',c(\"E\",\"P\",\"A\")],step3[4,],ABO=m_ABO)\n",
    "step5_a_init=amalgamate(S_init=step4[6,],emoji_epa[909,c('pred_E','pred_P','pred_A')])\n",
    "step5=next_state(step5_a_init,B_init=Dict_tmp[Dict_tmp$term=='answer',c(\"E\",\"P\",\"A\")],step4[4,],ABO=m_ABO)\n",
    "step6=next_state(step5[6,],B_init=Dict_tmp[Dict_tmp$term=='request_something_from',c(\"E\",\"P\",\"A\")],step5[1,],ABO=m_ABO)\n",
    "step7_a_init=amalgamate(S_init=step6[6,],emoji_epa[62,c('pred_E','pred_P','pred_A')])\n",
    "step7=next_state(step7_a_init,B_init=Dict_tmp[Dict_tmp$term=='agree_with',c(\"E\",\"P\",\"A\")],step6[4,],ABO=m_ABO)\n",
    "step8_a_init=step7[6,]\n",
    "step8=next_state(step8_a_init,B_init=Dict_tmp[Dict_tmp$term=='answer',c(\"E\",\"P\",\"A\")],step7[4,],ABO=m_ABO)\n",
    "step9_a_init=amalgamate(S_init=step8[6,],emoji_epa[48,c('pred_E','pred_P','pred_A')])\n",
    "step9=next_state(step9_a_init,B_init=Dict_tmp[Dict_tmp$term=='criticize',c(\"E\",\"P\",\"A\")],step8[4,],ABO=m_ABO)\n",
    "step10_a_init=step9[6,]\n",
    "step10=next_state(step10_a_init,B_init=Dict_tmp[Dict_tmp$term=='gratify',c(\"E\",\"P\",\"A\")],step9[4,],ABO=m_ABO)\n",
    "step11_a_init=amalgamate(S_init=step10[6,],emoji_epa[208,c('pred_E','pred_P','pred_A')])\n",
    "step11=next_state(step11_a_init,B_init=Dict_tmp[Dict_tmp$term=='argue_with',c(\"E\",\"P\",\"A\")],step10[4,],ABO=m_ABO)\n",
    "step12_a_init=step11[6,]\n",
    "step12=next_state(step12_a_init,B_init=Dict_tmp[Dict_tmp$term=='uplift',c(\"E\",\"P\",\"A\")],step11[4,],ABO=m_ABO)\n",
    "step13_a_init=amalgamate(S_init=step12[6,],emoji_epa[1568,c('pred_E','pred_P','pred_A')])\n",
    "step13=next_state(step13_a_init,B_init=Dict_tmp[Dict_tmp$term=='agree_with',c(\"E\",\"P\",\"A\")],step12[4,],ABO=m_ABO)\n",
    "step14_a_init=step13[6,]\n",
    "step14=next_state(step14_a_init,B_init=Dict_tmp[Dict_tmp$term=='thank',c(\"E\",\"P\",\"A\")],step13[4,],ABO=m_ABO)\n",
    "step15_a_init=amalgamate(S_init=step14[6,],emoji_epa[62,c('pred_E','pred_P','pred_A')])\n",
    "step15=next_state(step15_a_init,B_init=Dict_tmp[Dict_tmp$term=='leave',c(\"E\",\"P\",\"A\")],step14[4,],ABO=m_ABO)\n",
    "\n",
    "O_E_A=c(step1['Oi','E'],step1['O','E'],step2['A','E'],step3['O','E'],step4['A','E'],step5['O','E'],step6['A','E'],step7['O','E'],step8['A','E'],step9['O','E'],step10['A','E'],step11['O','E'],step12['A','E'],step13['O','E'],step14['A','E'],step15['O','E'])\n",
    "O_P_A=c(step1['Oi','P'],step1['O','P'],step2['A','P'],step3['O','P'],step4['A','P'],step5['O','P'],step6['A','P'],step7['O','P'],step8['A','P'],step9['O','P'],step10['A','P'],step11['O','P'],step12['A','P'],step13['O','P'],step14['A','P'],step15['O','P'])\n",
    "O_A_A=c(step1['Oi','A'],step1['O','A'],step2['A','A'],step3['O','A'],step4['A','A'],step5['O','A'],step6['A','A'],step7['O','A'],step8['A','A'],step9['O','A'],step10['A','A'],step11['O','A'],step12['A','A'],step13['O','A'],step14['A','A'],step15['O','A'])\n",
    "A_E_A=c(step1['Ai','E'],step1['A','E'],step2['O','E'],step3['A','E'],step4['O','E'],step5['A','E'],step6['O','E'],step7['A','E'],step8['O','E'],step9['A','E'],step10['O','E'],step11['A','E'],step12['O','E'],step13['A','E'],step14['O','E'],step15['A','E'])\n",
    "A_P_A=c(step1['Ai','P'],step1['A','P'],step2['O','P'],step3['A','P'],step4['O','P'],step5['A','P'],step6['O','P'],step7['A','P'],step8['O','P'],step9['A','P'],step10['O','P'],step11['A','P'],step12['O','P'],step13['A','P'],step14['O','P'],step15['A','P'])\n",
    "A_A_A=c(step1['Ai','A'],step1['A','A'],step2['O','A'],step3['A','A'],step4['O','A'],step5['A','A'],step6['O','A'],step7['A','A'],step8['O','A'],step9['A','A'],step10['O','A'],step11['A','A'],step12['O','A'],step13['A','A'],step14['O','A'],step15['A','A'])\n",
    "B_E_A=c(step1['Bi','E'],step1['B','E'],step2['B','E'],step3['B','E'],step4['B','E'],step5['B','E'],step6['B','E'],step7['B','E'],step8['B','E'],step9['B','E'],step10['B','E'],step11['B','E'],step12['B','E'],step13['B','E'],step14['B','E'],step15['B','E'])\n",
    "B_P_A=c(step1['Bi','P'],step1['B','P'],step2['B','P'],step3['B','P'],step4['B','P'],step5['B','P'],step6['B','P'],step7['B','P'],step8['B','P'],step9['B','P'],step10['B','P'],step11['B','P'],step12['B','P'],step13['B','P'],step14['B','P'],step15['B','P'])\n",
    "B_A_A=c(step1['Bi','A'],step1['B','A'],step2['B','A'],step3['B','A'],step4['B','A'],step5['B','A'],step6['B','A'],step7['B','A'],step8['B','A'],step9['B','A'],step10['B','A'],step11['B','A'],step12['B','A'],step13['B','A'],step14['B','A'],step15['B','A'])\n",
    "O_E_A_change=as.numeric(na.omit(O_E_A-dplyr::lag(O_E_A)))\n",
    "O_P_A_change=as.numeric(na.omit(O_P_A-dplyr::lag(O_P_A)))\n",
    "O_A_A_change=as.numeric(na.omit(O_A_A-dplyr::lag(O_A_A)))\n",
    "A_E_A_change=as.numeric(na.omit(A_E_A-dplyr::lag(A_E_A)))\n",
    "A_P_A_change=as.numeric(na.omit(A_P_A-dplyr::lag(A_P_A)))\n",
    "A_A_A_change=as.numeric(na.omit(A_A_A-dplyr::lag(A_A_A)))\n",
    "B_E_A_change=as.numeric(na.omit(B_E_A-dplyr::lag(B_E_A)))\n",
    "B_P_A_change=as.numeric(na.omit(B_P_A-dplyr::lag(B_P_A)))\n",
    "B_A_A_change=as.numeric(na.omit(B_A_A-dplyr::lag(B_A_A)))\n"
   ]
  },
  {
   "cell_type": "markdown",
   "metadata": {},
   "source": [
    "### Emotion change"
   ]
  },
  {
   "cell_type": "code",
   "execution_count": 25,
   "metadata": {
    "scrolled": true
   },
   "outputs": [
    {
     "data": {
      "image/png": "[encoded data removed]"
     },
     "metadata": {},
     "output_type": "display_data"
    }
   ],
   "source": [
    "%%R\n",
    "customer_actions=c('greet' ,'grouse at' ,'answer','agree with','criticize','argue with','agree','leaves')\n",
    "chatbot_actions=c('welcome', 'question' , 'request sth. from','answer','gratify','uplift','thank')\n",
    "#emoji_seq=c('😎','😒','🌝','☺️','😫','👎','🙏🏽','🚶')\n",
    "\n",
    "list_plot=list(A_E_change,A_P_change,A_A_change,A_E2_change,A_P2_change,A_A2_change)\n",
    "a_df = do.call(\"rbind\", lapply(list_plot, function(x) data.frame(step =seq_along(x), EPA =  x)))\n",
    "a_df$Customer= rep(c('Evaluation','Potency','Activity','Evaluation NE','Potency NE','Activity NE'), sapply(list_plot, length))\n",
    "ggplot(a_df,size=6, aes(x = step, y = EPA, color = Customer)) + geom_line()+ coord_cartesian( ylim = c(-4.5, 4.5))+ \n",
    "        annotate(\"text\",y=1,x=c(1,3,5,7,9,11,13,15), label = customer_actions, color = \"red\",angle = 90)+\n",
    "        #annotate(\"text\",y=1,x=c(1,3,5,7,9,11,13,15), label = emoji_seq, color = \"red\",angle = 90)+\n",
    "        annotate(\"text\",y=1,x=c(2,4,6,8,10,12,14), label = chatbot_actions, color = \"black\",angle = 90)\n",
    "\n",
    "                                "
   ]
  },
  {
   "cell_type": "code",
   "execution_count": 26,
   "metadata": {},
   "outputs": [
    {
     "data": {
      "image/png": "[encoded data removed]"
     },
     "metadata": {},
     "output_type": "display_data"
    }
   ],
   "source": [
    "%%R\n",
    "\n",
    "list_plot=list(O_E_change,O_P_change,O_A_change,O_E2_change,O_P2_change,O_A2_change)\n",
    "a_df = do.call(\"rbind\", lapply(list_plot, function(x) data.frame(step =seq_along(x), EPA =  x)))\n",
    "a_df$Chatbot = rep(c('Evaluation','Potency','Activity','Evaluation NE','Potency NE','Activity NE'), sapply(list_plot, length))\n",
    "ggplot(a_df, aes(x = step, y = EPA, color = Chatbot)) + geom_line()+ coord_cartesian( ylim = c(-4, 4))+\n",
    "      annotate(\"text\",size=5,y=1.5,x=c(1,3,5,7,9,11,13,15), label = customer_actions, color = \"red\",angle = 90)+\n",
    "        #annotate(\"text\",y=1,x=c(1,3,5,7,9,11,13,15), label = emoji_seq, color = \"red\",angle = 90)+\n",
    "        annotate(\"text\",size=5,y=1.5,x=c(2,4,6,8,10,12,14), label = chatbot_actions, color = \"black\",angle = 90)\n",
    "\n"
   ]
  },
  {
   "cell_type": "code",
   "execution_count": 27,
   "metadata": {},
   "outputs": [
    {
     "data": {
      "image/png": "[encoded data removed]"
     },
     "metadata": {},
     "output_type": "display_data"
    }
   ],
   "source": [
    "%%R\n",
    "list_plot=list(A_E_H_change,A_P_H_change,A_A_H_change,A_E_A_change,A_P_A_change,A_A_A_change)\n",
    "a_df = do.call(\"rbind\", lapply(list_plot, function(x) data.frame(step =seq_along(x), EPA =  x)))\n",
    "a_df$Customer= rep(c('Evaluation Happy','Potency Happy','Activity Happy','Evaluation Angry','Potency Angry','Activity Angry'), sapply(list_plot, length))\n",
    "ggplot(a_df,size=6, aes(x = step, y = EPA, color = Customer)) + geom_line()+ coord_cartesian( ylim = c(-2.5, 2))+ \n",
    "        annotate(\"text\",size=5,y=1.5,x=c(1,3,5,7,9,11,13,15), label = customer_actions, color = \"red\",angle = 90)+\n",
    "        annotate(\"text\",size=5,y=1,x=c(2,4,6,8,10,12,14), label = chatbot_actions, color = \"black\",angle = 90)                                "
   ]
  },
  {
   "cell_type": "markdown",
   "metadata": {},
   "source": [
    "### Emotions"
   ]
  },
  {
   "cell_type": "code",
   "execution_count": 28,
   "metadata": {},
   "outputs": [
    {
     "data": {
      "image/png": "[encoded data removed]"
     },
     "metadata": {},
     "output_type": "display_data"
    }
   ],
   "source": [
    "%%R\n",
    "list_plot=list(A_E_H,A_E_A,A_E,A_E2)\n",
    "a_df = do.call(\"rbind\", lapply(list_plot, function(x) data.frame(step =seq_along(x), EPA =  x)))\n",
    "a_df$Customer_evaluation= rep(c('Happy','Angry','Regular','No emoji'), sapply(list_plot, length))\n",
    "ggplot(a_df,size=6, aes(x = step, y = EPA, color = Customer_evaluation)) + geom_line()+ coord_cartesian( ylim = c(-1.5, 2.1))+ \n",
    "        annotate(\"text\",y=1.5,x=c(1,3,5,7,9,11,13,15),size=5, label = customer_actions, color = \"red\",angle = 90)+\n",
    "        annotate(\"text\",y=1.5,x=c(2,4,6,8,10,12,14), size=5, label = chatbot_actions, color = \"black\",angle = 90)+\n",
    "        annotate(\"text\",y=-1.4,x=c(9), size=8, label = \"Evaluation\", color = \"black\")                               "
   ]
  },
  {
   "cell_type": "code",
   "execution_count": 29,
   "metadata": {},
   "outputs": [
    {
     "data": {
      "image/png": "[encoded data removed]"
     },
     "metadata": {},
     "output_type": "display_data"
    }
   ],
   "source": [
    "%%R\n",
    "list_plot=list(A_P_H,A_P_A,A_P,A_P2)\n",
    "a_df = do.call(\"rbind\", lapply(list_plot, function(x) data.frame(step =seq_along(x), EPA =  x)))\n",
    "a_df$Customer_potency= rep(c('Happy','Angry','Regular','No emoji'), sapply(list_plot, length))\n",
    "ggplot(a_df,size=6, aes(x = step, y = EPA, color = Customer_potency)) + geom_line()+ coord_cartesian( ylim = c(-1.5, 2.1))+ \n",
    "        annotate(\"text\",size=5,y=1.5,x=c(1,3,5,7,9,11,13,15), label = customer_actions, color = \"red\",angle = 90)+\n",
    "        annotate(\"text\",size=5,y=1.5,x=c(2,4,6,8,10,12,14), label = chatbot_actions, color = \"black\",angle = 90)+\n",
    "                                       annotate(\"text\",y=-1.4,x=c(9), size=8, label = \"Potency\", color = \"black\")                               "
   ]
  },
  {
   "cell_type": "code",
   "execution_count": 30,
   "metadata": {},
   "outputs": [
    {
     "data": {
      "image/png": "[encoded data removed]"
     },
     "metadata": {},
     "output_type": "display_data"
    }
   ],
   "source": [
    "%%R\n",
    "list_plot=list(A_A_H,A_A_A,A_A,A_A2)\n",
    "a_df = do.call(\"rbind\", lapply(list_plot, function(x) data.frame(step =seq_along(x), EPA =  x)))\n",
    "a_df$Customer_Activity= rep(c('Happy','Angry','Regular','No emoji'), sapply(list_plot, length))\n",
    "ggplot(a_df,size=6, aes(x = step, y = EPA, color = Customer_Activity)) + geom_line()+ coord_cartesian( ylim = c(-1.5, 2.1))+ \n",
    "        annotate(\"text\",size=5,y=1.1,x=c(1,3,5,7,9,11,13,15), label = customer_actions, color = \"red\",angle = 90)+\n",
    "        annotate(\"text\",size=5,y=1.1,x=c(2,4,6,8,10,12,14), label = chatbot_actions, color = \"black\",angle = 90)+\n",
    "          annotate(\"text\",y=-1.4,x=c(9), size=8, label = \"Activity\", color = \"black\")                               "
   ]
  },
  {
   "cell_type": "markdown",
   "metadata": {},
   "source": [
    "## Chatbot"
   ]
  },
  {
   "cell_type": "code",
   "execution_count": 31,
   "metadata": {},
   "outputs": [
    {
     "data": {
      "image/png": "[encoded data removed]"
     },
     "metadata": {},
     "output_type": "display_data"
    }
   ],
   "source": [
    "%%R\n",
    "list_plot=list(O_E_H,O_E_A,O_E,O_E2)\n",
    "a_df = do.call(\"rbind\", lapply(list_plot, function(x) data.frame(step =seq_along(x), EPA =  x)))\n",
    "a_df$Chatbot= rep(c('Happy','Angry','Regular','No emoji'), sapply(list_plot, length))\n",
    "ggplot(a_df,size=6, aes(x = step, y = EPA, color = Chatbot)) + geom_line()+ coord_cartesian( ylim = c(-1.1, 2.5))+ \n",
    "        annotate(\"text\",size=5,y=1.5,x=c(1,3,5,7,9,11,13,15), label = customer_actions, color = \"red\",angle = 90)+\n",
    "        annotate(\"text\",size=5,y=1.5,x=c(2,4,6,8,10,12,14), label = chatbot_actions, color = \"black\",angle = 90)+\n",
    "          annotate(\"text\",y=-1,x=c(9), size=8, label = \"Evaluation\", color = \"black\")                               "
   ]
  },
  {
   "cell_type": "code",
   "execution_count": 32,
   "metadata": {},
   "outputs": [
    {
     "data": {
      "image/png": "[encoded data removed]"
     },
     "metadata": {},
     "output_type": "display_data"
    }
   ],
   "source": [
    "%%R\n",
    "list_plot=list(O_P_H,O_P_A,O_P,O_P2)\n",
    "a_df = do.call(\"rbind\", lapply(list_plot, function(x) data.frame(step =seq_along(x), EPA =  x)))\n",
    "a_df$Chatbot= rep(c('Happy','Angry','Regular','No emoji'), sapply(list_plot, length))\n",
    "ggplot(a_df,size=6, aes(x = step, y = EPA, color = Chatbot)) + geom_line()+ coord_cartesian( ylim = c(-1.1, 2.5))+ \n",
    "        annotate(\"text\",size=5,y=1.25,x=c(1,3,5,7,9,11,13,15), label = customer_actions, color = \"red\",angle = 90)+\n",
    "        annotate(\"text\",size=5,y=1.25,x=c(2,4,6,8,10,12,14), label = chatbot_actions, color = \"black\",angle = 90)+\n",
    "          annotate(\"text\",y=-1,x=c(9), size=8, label = \"Potency\", color = \"black\")                               "
   ]
  },
  {
   "cell_type": "code",
   "execution_count": 33,
   "metadata": {},
   "outputs": [
    {
     "data": {
      "image/png": "[encoded data removed]"
     },
     "metadata": {},
     "output_type": "display_data"
    }
   ],
   "source": [
    "%%R\n",
    "list_plot=list(O_A_H,O_A_A,O_A,O_A2)\n",
    "a_df = do.call(\"rbind\", lapply(list_plot, function(x) data.frame(step =seq_along(x), EPA =  x)))\n",
    "a_df$Chatbot= rep(c('Happy','Angry','Regular','No emoji'), sapply(list_plot, length))\n",
    "ggplot(a_df,size=6, aes(x = step, y = EPA, color = Chatbot)) + geom_line()+ coord_cartesian( ylim = c(-1.1, 2.5))+ \n",
    "        annotate(\"text\",size=5,y=1,x=c(1,3,5,7,9,11,13,15), label = customer_actions, color = \"red\",angle = 90)+\n",
    "        annotate(\"text\",size=5,y=1,x=c(2,4,6,8,10,12,14), label = chatbot_actions, color = \"black\",angle = 90)+\n",
    "          annotate(\"text\",y=-1,x=c(9), size=8, label = \"Activity\", color = \"black\")                               "
   ]
  },
  {
   "cell_type": "code",
   "execution_count": 34,
   "metadata": {},
   "outputs": [
    {
     "data": {
      "image/png": "[encoded data removed]"
     },
     "metadata": {},
     "output_type": "display_data"
    }
   ],
   "source": [
    "%%R\n",
    "list_plot=list(A_E_H,A_P_H,A_A_H,A_E_A,A_P_A,A_A_A)\n",
    "a_df = do.call(\"rbind\", lapply(list_plot, function(x) data.frame(step =seq_along(x), EPA =  x)))\n",
    "a_df$Customer= rep(c('Evaluation Happy','Potency Happy','Activity Happy','Evaluation Angry','Potency Angry','Activity Angry'), sapply(list_plot, length))\n",
    "ggplot(a_df,size=6, aes(x = step, y = EPA, color = Customer)) + geom_line()+ coord_cartesian( ylim = c(-1.5, 2))+ \n",
    "        annotate(\"text\",size=5,size=5,y=-1.25,x=c(1,3,5,7,9,11,13,15), label = customer_actions, color = \"red\",angle = 90)+\n",
    "        annotate(\"text\",size=5,y=1,x=c(2,4,6,8,10,12,14), label = chatbot_actions, color = \"black\",angle = 90)                                "
   ]
  },
  {
   "cell_type": "markdown",
   "metadata": {},
   "source": [
    "customer=[[   1.97   0.87   1.12],[   1.94   1.00   0.89]]\n",
    "salesman=[[   0.07   0.52   1.98],[   1.35  -0.96   0.54]]"
   ]
  },
  {
   "cell_type": "markdown",
   "metadata": {},
   "source": [
    "### Plot deflection"
   ]
  },
  {
   "cell_type": "code",
   "execution_count": 35,
   "metadata": {},
   "outputs": [],
   "source": [
    "%%R\n",
    "norm_vec <- function(x) sqrt(mean(x^2))\n",
    "norm_vec(c(3,4))"
   ]
  },
  {
   "cell_type": "code",
   "execution_count": 36,
   "metadata": {},
   "outputs": [],
   "source": [
    "%%R \n",
    "deflection_chatbot=sqrt(((O_E-O_E[1])^2+(O_P-O_P[1])^2+(O_A-O_A[1])^2))\n",
    "deflection_chatbot_H=sqrt(((O_E_H-O_E_H[1])^2+(O_P_H-O_P_H[1])^2+(O_A_H-O_A_H[1])^2))\n",
    "deflection_chatbot_A=sqrt(((O_E_A-O_E_A[1])^2+(O_P_A-O_P_A[1])^2+(O_A_A-O_A_A[1])^2))\n",
    "deflection_chatbot_NE=sqrt(((O_E2-O_E2[1])^2+(O_P2-O_P2[1])^2+(O_A2-O_A2[1])^2))\n",
    "\n",
    "deflection_customer=sqrt(((A_E-A_E[1])^2+(A_P-A_P[1])^2+(A_A-A_A[1])^2))\n",
    "deflection_customer_H=sqrt(((A_E_H-A_E_H[1])^2+(A_P_H-A_P_H[1])^2+(A_A_H-A_A_H[1])^2))\n",
    "deflection_customer_A=sqrt(((A_E_A-A_E_A[1])^2+(A_P_A-A_P_A[1])^2+(A_A_A-A_A_A[1])^2))\n",
    "deflection_customer_NE=sqrt(((A_E2-A_E2[1])^2+(A_P2-A_P2[1])^2+(A_A2-A_A2[1])^2))\n",
    "\n",
    "deflection_beh=sqrt(((B_E-B_E[1])^2+(B_P-B_P[1])^2+(B_A-B_A[1])^2))\n",
    "deflection_beh_H=sqrt(((B_E_H-B_E_H[1])^2+(B_P_H-B_P_H[1])^2+(B_A_H-B_A_H[1])^2))\n",
    "deflection_beh_A=sqrt(((B_E_A-B_E_A[1])^2+(B_P_A-B_P_A[1])^2+(B_A_A-B_A_A[1])^2))\n",
    "deflection_beh_NE=sqrt(((B_E2-B_E2[1])^2+(B_P2-B_P2[1])^2+(B_A2-B_A2[1])^2))"
   ]
  },
  {
   "cell_type": "code",
   "execution_count": 37,
   "metadata": {},
   "outputs": [
    {
     "data": {
      "image/png": "[encoded data removed]"
     },
     "metadata": {},
     "output_type": "display_data"
    }
   ],
   "source": [
    "%%R\n",
    "list_plot=list(deflection_chatbot,deflection_chatbot_NE,deflection_chatbot_H,deflection_chatbot_A)\n",
    "a_df = do.call(\"rbind\", lapply(list_plot, function(x) data.frame(step =seq_along(x), EPA =  x)))\n",
    "a_df$Chatbot = rep(c('Regular','No emoji','Happy','Angry'), sapply(list_plot, length))\n",
    "ggplot(a_df,size=6, aes(x = step, y = EPA, color = Chatbot)) + geom_line()+ coord_cartesian( ylim = c(0.1, 3.8))+\n",
    "       annotate(\"text\",size=5,y=1,x=c(1,3,5,7,9,11,13,15), label = customer_actions, color = \"red\",angle = 90)+\n",
    "        annotate(\"text\",size=5,y=1,x=c(2,4,6,8,10,12,14), label = chatbot_actions, color = \"black\",angle = 90)+\n",
    "        annotate(\"text\",y=0.1,x=c(9), size=8, label = \"Chatbot\", color = \"black\")                               "
   ]
  },
  {
   "cell_type": "code",
   "execution_count": 38,
   "metadata": {},
   "outputs": [
    {
     "data": {
      "image/png": "[encoded data removed]"
     },
     "metadata": {},
     "output_type": "display_data"
    }
   ],
   "source": [
    "%%R\n",
    "list_plot=list(deflection_customer,deflection_customer_NE,deflection_customer_H,deflection_customer_A)\n",
    "a_df = do.call(\"rbind\", lapply(list_plot, function(x) data.frame(step =seq_along(x), EPA =  x)))\n",
    "a_df$Customer = rep(c('Regular','No emoji','Happy','Angry'), sapply(list_plot, length))\n",
    "ggplot(a_df,size=6, aes(x = step, y = EPA, color =Customer)) + geom_line()+ coord_cartesian( ylim = c(0.1, 3.8))+\n",
    "                annotate(\"text\",size=5,y=3.25,x=c(1,3,5,7,9,11,13,15), label = customer_actions, color = \"red\",angle = 90)+\n",
    "        annotate(\"text\",size=5,y=3.25,x=c(2,4,6,8,10,12,14), label = chatbot_actions, color = \"black\",angle = 90)+\n",
    "      annotate(\"text\",y=0.1,x=c(9), size=8, label = \"Customer\", color = \"black\")                               "
   ]
  },
  {
   "cell_type": "code",
   "execution_count": 39,
   "metadata": {},
   "outputs": [],
   "source": [
    "%%R\n",
    "deflection=(1/3)*(deflection_customer_A+deflection_beh_A+deflection_chatbot_A)"
   ]
  },
  {
   "cell_type": "code",
   "execution_count": 40,
   "metadata": {},
   "outputs": [],
   "source": [
    "%%R\n",
    "deflection_A=sqrt((deflection_customer_A)^2+(deflection_beh_A)^2+(deflection_chatbot_A)^2)\n",
    "deflection_H=sqrt((deflection_customer_H)^2+(deflection_beh_H)^2+(deflection_chatbot_H)^2)\n",
    "deflection_NE=sqrt((deflection_customer_NE)^2+(deflection_beh_NE)^2+(deflection_chatbot_NE)^2)\n",
    "deflection=sqrt((deflection_customer)^2+(deflection_beh)^2+(deflection_chatbot)^2)"
   ]
  },
  {
   "cell_type": "code",
   "execution_count": 41,
   "metadata": {},
   "outputs": [
    {
     "data": {
      "image/png": "[encoded data removed]"
     },
     "metadata": {},
     "output_type": "display_data"
    }
   ],
   "source": [
    "%%R\n",
    "\n",
    "list_plot=list(deflection_A,deflection_customer_A,deflection_beh_A,deflection_chatbot_A)\n",
    "a_df = do.call(\"rbind\", lapply(list_plot, function(x) data.frame(step =seq_along(x), EPA =  x)))\n",
    "a_df$Deflection = rep(c('Deflection','Customer','Behavior','Chatbot'), sapply(list_plot, length))\n",
    "ggplot(a_df,size=6, aes(x = step, y = EPA, color = Deflection)) + geom_line()+ coord_cartesian( ylim = c(0.1, 5))+\n",
    "       annotate(\"text\",size=5,y=1,x=c(1,3,5,7,9,11,13,15), label = customer_actions, color = \"red\",angle = 90)+\n",
    "        annotate(\"text\",size=5,y=1,x=c(2,4,6,8,10,12,14), label = chatbot_actions, color = \"black\",angle = 90)+\n",
    "        annotate(\"text\",y=0.1,x=c(9), size=8, label = \"Deflection\", color = \"black\")                               "
   ]
  },
  {
   "cell_type": "code",
   "execution_count": 42,
   "metadata": {},
   "outputs": [
    {
     "data": {
      "image/png": "[encoded data removed]"
     },
     "metadata": {},
     "output_type": "display_data"
    }
   ],
   "source": [
    "%%R\n",
    "\n",
    "list_plot=list(deflection_A,deflection_H,deflection_beh_NE,deflection)\n",
    "a_df = do.call(\"rbind\", lapply(list_plot, function(x) data.frame(step =seq_along(x), Deflection =  x)))\n",
    "a_df$Customer = rep(c('Angry','Happy','No emoji','Regular'), sapply(list_plot, length))\n",
    "ggplot(a_df,size=6, aes(x = step, y = Deflection, color = Customer)) + geom_line()+ coord_cartesian( ylim = c(0.1, 6))+\n",
    "       annotate(\"text\",size=5,y=1,x=c(1,3,5,7,9,11,13,15), label = customer_actions, color = \"red\",angle = 90)+\n",
    "        annotate(\"text\",size=5,y=1,x=c(2,4,6,8,10,12,14), label = chatbot_actions, color = \"black\",angle = 90)\n"
   ]
  },
  {
   "cell_type": "markdown",
   "metadata": {},
   "source": [
    "### Limitations"
   ]
  },
  {
   "cell_type": "code",
   "execution_count": 43,
   "metadata": {},
   "outputs": [
    {
     "data": {
      "text/html": [
       "<div>\n",
       "<style scoped>\n",
       "    .dataframe tbody tr th:only-of-type {\n",
       "        vertical-align: middle;\n",
       "    }\n",
       "\n",
       "    .dataframe tbody tr th {\n",
       "        vertical-align: top;\n",
       "    }\n",
       "\n",
       "    .dataframe thead th {\n",
       "        text-align: right;\n",
       "    }\n",
       "</style>\n",
       "<table border=\"1\" class=\"dataframe\">\n",
       "  <thead>\n",
       "    <tr style=\"text-align: right;\">\n",
       "      <th></th>\n",
       "      <th>Emoji</th>\n",
       "      <th>Evaluation</th>\n",
       "      <th>Potency</th>\n",
       "      <th>Activity</th>\n",
       "    </tr>\n",
       "  </thead>\n",
       "  <tbody>\n",
       "    <tr>\n",
       "      <th>732</th>\n",
       "      <td>💗</td>\n",
       "      <td>2.59</td>\n",
       "      <td>2.69</td>\n",
       "      <td>0.10</td>\n",
       "    </tr>\n",
       "    <tr>\n",
       "      <th>368</th>\n",
       "      <td>❤️</td>\n",
       "      <td>0.27</td>\n",
       "      <td>2.66</td>\n",
       "      <td>0.03</td>\n",
       "    </tr>\n",
       "  </tbody>\n",
       "</table>\n",
       "</div>"
      ],
      "text/plain": [
       "    Emoji  Evaluation  Potency  Activity\n",
       "732     💗        2.59     2.69      0.10\n",
       "368    ❤️        0.27     2.66      0.03"
      ]
     },
     "execution_count": 43,
     "metadata": {},
     "output_type": "execute_result"
    }
   ],
   "source": [
    "#pd.options.display.float_format = '{:,.2f}'.format\n",
    "\n",
    "tmp=['💗','❤️']\n",
    "\n",
    "tmp2=emoji2vec_EPA.loc[emoji2vec_EPA.emoj.isin(tmp),['emoj','pred_E','pred_P','pred_A'] ].copy()\n",
    "tmp2.columns = ['Emoji','Evaluation', 'Potency',\"Activity\"]\n",
    "tmp2=tmp2.sort_values(by=['Evaluation'], ascending=False)\n",
    "\n",
    "tmp2\n",
    "round(tmp2,2)"
   ]
  },
  {
   "cell_type": "markdown",
   "metadata": {},
   "source": [
    "### Finding tags associate with emojis in emoji2vec"
   ]
  },
  {
   "cell_type": "code",
   "execution_count": 44,
   "metadata": {},
   "outputs": [],
   "source": [
    "# import codecs\n",
    "url='https://raw.githubusercontent.com/uclnlp/emoji2vec/master/data/raw_training_data/emoji_joined.txt'\n",
    "# doc = codecs.open(requests.get(url).text,'rU','UTF-8') #open for reading with \"universal\" type set\n",
    "tmp = pd.read_csv(url, sep='\\t',header=None).rename(columns={0:'keywords',1:'emoji'})\n"
   ]
  },
  {
   "cell_type": "code",
   "execution_count": 45,
   "metadata": {},
   "outputs": [
    {
     "data": {
      "text/html": [
       "<div>\n",
       "<style scoped>\n",
       "    .dataframe tbody tr th:only-of-type {\n",
       "        vertical-align: middle;\n",
       "    }\n",
       "\n",
       "    .dataframe tbody tr th {\n",
       "        vertical-align: top;\n",
       "    }\n",
       "\n",
       "    .dataframe thead th {\n",
       "        text-align: right;\n",
       "    }\n",
       "</style>\n",
       "<table border=\"1\" class=\"dataframe\">\n",
       "  <thead>\n",
       "    <tr style=\"text-align: right;\">\n",
       "      <th></th>\n",
       "      <th>keywords</th>\n",
       "      <th>emoji</th>\n",
       "    </tr>\n",
       "  </thead>\n",
       "  <tbody>\n",
       "    <tr>\n",
       "      <th>976</th>\n",
       "      <td>love heart</td>\n",
       "      <td>❤️</td>\n",
       "    </tr>\n",
       "    <tr>\n",
       "      <th>977</th>\n",
       "      <td>red heart</td>\n",
       "      <td>❤️</td>\n",
       "    </tr>\n",
       "    <tr>\n",
       "      <th>978</th>\n",
       "      <td>death</td>\n",
       "      <td>❤️</td>\n",
       "    </tr>\n",
       "    <tr>\n",
       "      <th>979</th>\n",
       "      <td>intense</td>\n",
       "      <td>❤️</td>\n",
       "    </tr>\n",
       "    <tr>\n",
       "      <th>980</th>\n",
       "      <td>heavy black heart</td>\n",
       "      <td>❤️</td>\n",
       "    </tr>\n",
       "    <tr>\n",
       "      <th>981</th>\n",
       "      <td>cold</td>\n",
       "      <td>❤️</td>\n",
       "    </tr>\n",
       "    <tr>\n",
       "      <th>982</th>\n",
       "      <td>black</td>\n",
       "      <td>❤️</td>\n",
       "    </tr>\n",
       "    <tr>\n",
       "      <th>983</th>\n",
       "      <td>love</td>\n",
       "      <td>❤️</td>\n",
       "    </tr>\n",
       "    <tr>\n",
       "      <th>984</th>\n",
       "      <td>pink</td>\n",
       "      <td>❤️</td>\n",
       "    </tr>\n",
       "    <tr>\n",
       "      <th>985</th>\n",
       "      <td>romance</td>\n",
       "      <td>❤️</td>\n",
       "    </tr>\n",
       "    <tr>\n",
       "      <th>986</th>\n",
       "      <td>passion</td>\n",
       "      <td>❤️</td>\n",
       "    </tr>\n",
       "    <tr>\n",
       "      <th>987</th>\n",
       "      <td>heart</td>\n",
       "      <td>❤️</td>\n",
       "    </tr>\n",
       "    <tr>\n",
       "      <th>988</th>\n",
       "      <td>evil</td>\n",
       "      <td>❤️</td>\n",
       "    </tr>\n",
       "    <tr>\n",
       "      <th>989</th>\n",
       "      <td>desire</td>\n",
       "      <td>❤️</td>\n",
       "    </tr>\n",
       "    <tr>\n",
       "      <th>990</th>\n",
       "      <td>red</td>\n",
       "      <td>❤️</td>\n",
       "    </tr>\n",
       "  </tbody>\n",
       "</table>\n",
       "</div>"
      ],
      "text/plain": [
       "              keywords emoji\n",
       "976         love heart    ❤️\n",
       "977          red heart    ❤️\n",
       "978              death    ❤️\n",
       "979            intense    ❤️\n",
       "980  heavy black heart    ❤️\n",
       "981               cold    ❤️\n",
       "982              black    ❤️\n",
       "983               love    ❤️\n",
       "984               pink    ❤️\n",
       "985            romance    ❤️\n",
       "986            passion    ❤️\n",
       "987              heart    ❤️\n",
       "988               evil    ❤️\n",
       "989             desire    ❤️\n",
       "990                red    ❤️"
      ]
     },
     "execution_count": 45,
     "metadata": {},
     "output_type": "execute_result"
    }
   ],
   "source": [
    "tmp[tmp.emoji=='❤️']"
   ]
  },
  {
   "cell_type": "code",
   "execution_count": 46,
   "metadata": {},
   "outputs": [
    {
     "data": {
      "text/plain": [
       "['love heart',\n",
       " 'red heart',\n",
       " 'death',\n",
       " 'intense',\n",
       " 'heavy black heart',\n",
       " 'cold',\n",
       " 'black',\n",
       " 'love',\n",
       " 'pink',\n",
       " 'romance',\n",
       " 'passion',\n",
       " 'heart',\n",
       " 'evil',\n",
       " 'desire',\n",
       " 'red']"
      ]
     },
     "execution_count": 46,
     "metadata": {},
     "output_type": "execute_result"
    }
   ],
   "source": [
    "list(tmp[tmp.emoji=='❤️'].keywords)"
   ]
  },
  {
   "cell_type": "code",
   "execution_count": 47,
   "metadata": {},
   "outputs": [
    {
     "data": {
      "text/plain": [
       "['growing heart', 'multiple heart', 'triple heart']"
      ]
     },
     "execution_count": 47,
     "metadata": {},
     "output_type": "execute_result"
    }
   ],
   "source": [
    "list(tmp[tmp.emoji=='💗'].keywords)"
   ]
  },
  {
   "cell_type": "markdown",
   "metadata": {},
   "source": [
    "### Emoji tags\n",
    "| Index | Emoji |Tags| \n",
    "| --- | :- | :- |\n",
    "| 1 |  💗|growing heart, multiple heart, triple heart|\n",
    "| 2 | ❤️|love heart, red heart, death, intense, heavy black heart, cold, black, love, pink, romance, passion, heart, evil, desire, red|\n",
    "\n",
    "\n"
   ]
  },
  {
   "cell_type": "markdown",
   "metadata": {},
   "source": [
    "We can export other affective dictionaries from $INTERACT$ \n",
    "\n",
    "          Heise, D. R. (2013). Interact guide. Department of Sociology, Indiana University."
   ]
  },
  {
   "cell_type": "code",
   "execution_count": 48,
   "metadata": {},
   "outputs": [],
   "source": [
    "%%R \n",
    "texas1998_modifier<- read.csv(\"D:/ACT/data/texas1998_modifier.csv\",stringsAsFactor=F)\n",
    "texas1998_behaviors<- read.csv(\"D:/ACT/data/texas1998_behaviors.csv\",stringsAsFactor=F)\n",
    "texas1998_identities<- read.csv(\"D:/ACT/data/texas1998_identities.csv\",stringsAsFactor=F)\n",
    "texas1998_all=rbind(texas1998_behaviors,texas1998_modifier,texas1998_identities)\n",
    "\n",
    "s <-capture.output(cor(merge(texas1998_all,Combined_Surveyor_2015_all,by=\"term\")[,c(\"E.x\",\"P.x\",'A.x',\"E.y\",'P.y',\"A.y\")])[1:3,4:6])\n",
    "print_tmp=cor(merge(texas1998_all,Combined_Surveyor_2015_all,by=\"term\")[,c(\"E.x\",\"P.x\",'A.x',\"E.y\",'P.y',\"A.y\")])[1:3,4:6]\n",
    "#s\n",
    "print_tmp"
   ]
  }
 ],
 "metadata": {
  "kernelspec": {
   "display_name": "Python 3",
   "language": "python",
   "name": "python3"
  },
  "language_info": {
   "codemirror_mode": {
    "name": "ipython",
    "version": 3
   },
   "file_extension": ".py",
   "mimetype": "text/x-python",
   "name": "python",
   "nbconvert_exporter": "python",
   "pygments_lexer": "ipython3",
   "version": "3.7.7"
  }
 },
 "nbformat": 4,
 "nbformat_minor": 4
}
